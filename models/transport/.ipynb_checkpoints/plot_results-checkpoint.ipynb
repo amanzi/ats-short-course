{
 "cells": [
  {
   "cell_type": "code",
   "execution_count": 2,
   "id": "f5aea39c",
   "metadata": {},
   "outputs": [
    {
     "ename": "ModuleNotFoundError",
     "evalue": "No module named 'colorcet'",
     "output_type": "error",
     "traceback": [
      "\u001b[31m---------------------------------------------------------------------------\u001b[39m",
      "\u001b[31mModuleNotFoundError\u001b[39m                       Traceback (most recent call last)",
      "\u001b[36mCell\u001b[39m\u001b[36m \u001b[39m\u001b[32mIn[2]\u001b[39m\u001b[32m, line 7\u001b[39m\n\u001b[32m      4\u001b[39m sys.path.append(\u001b[33m'\u001b[39m\u001b[33m../notebooks/libs\u001b[39m\u001b[33m'\u001b[39m)\n\u001b[32m      6\u001b[39m \u001b[38;5;28;01mimport\u001b[39;00m\u001b[38;5;250m \u001b[39m\u001b[34;01mats_xdmf\u001b[39;00m\u001b[38;5;250m \u001b[39m\u001b[38;5;28;01mas\u001b[39;00m\u001b[38;5;250m \u001b[39m\u001b[34;01mats_xdmf\u001b[39;00m\n\u001b[32m----> \u001b[39m\u001b[32m7\u001b[39m \u001b[38;5;28;01mimport\u001b[39;00m\u001b[38;5;250m \u001b[39m\u001b[34;01mats_vis\u001b[39;00m\u001b[38;5;250m \u001b[39m\u001b[38;5;28;01mas\u001b[39;00m\u001b[38;5;250m \u001b[39m\u001b[34;01matsvis\u001b[39;00m\n\u001b[32m      8\u001b[39m \u001b[38;5;28;01mfrom\u001b[39;00m\u001b[38;5;250m \u001b[39m\u001b[34;01mmatplotlib\u001b[39;00m\u001b[38;5;250m \u001b[39m\u001b[38;5;28;01mimport\u001b[39;00m pyplot \u001b[38;5;28;01mas\u001b[39;00m plt\n\u001b[32m      9\u001b[39m \u001b[38;5;28;01mfrom\u001b[39;00m\u001b[38;5;250m \u001b[39m\u001b[34;01mipywidgets\u001b[39;00m\u001b[38;5;250m \u001b[39m\u001b[38;5;28;01mimport\u001b[39;00m interact, IntSlider\n",
      "\u001b[36mFile \u001b[39m\u001b[32m~/work/models/transport/../notebooks/libs/ats_vis.py:11\u001b[39m\n\u001b[32m      9\u001b[39m \u001b[38;5;28;01mfrom\u001b[39;00m\u001b[38;5;250m \u001b[39m\u001b[34;01mmatplotlib\u001b[39;00m\u001b[34;01m.\u001b[39;00m\u001b[34;01mticker\u001b[39;00m\u001b[38;5;250m \u001b[39m\u001b[38;5;28;01mimport\u001b[39;00m MultipleLocator\n\u001b[32m     10\u001b[39m \u001b[38;5;28;01mimport\u001b[39;00m\u001b[38;5;250m \u001b[39m\u001b[34;01mxml\u001b[39;00m\u001b[34;01m.\u001b[39;00m\u001b[34;01metree\u001b[39;00m\u001b[34;01m.\u001b[39;00m\u001b[34;01mElementTree\u001b[39;00m\u001b[38;5;250m \u001b[39m\u001b[38;5;28;01mas\u001b[39;00m\u001b[38;5;250m \u001b[39m\u001b[34;01mET\u001b[39;00m\n\u001b[32m---> \u001b[39m\u001b[32m11\u001b[39m \u001b[38;5;28;01mimport\u001b[39;00m\u001b[38;5;250m \u001b[39m\u001b[34;01mcolorcet\u001b[39;00m\u001b[38;5;250m \u001b[39m\u001b[38;5;28;01mas\u001b[39;00m\u001b[38;5;250m \u001b[39m\u001b[34;01mcc\u001b[39;00m\n\u001b[32m     14\u001b[39m \u001b[38;5;28;01mdef\u001b[39;00m\u001b[38;5;250m \u001b[39m\u001b[34mget_skip_number\u001b[39m(filename):\n\u001b[32m     15\u001b[39m \u001b[38;5;250m    \u001b[39m\u001b[33;03m\"\"\" Count the number of lines starting with '#' in a file \"\"\"\u001b[39;00m\n",
      "\u001b[31mModuleNotFoundError\u001b[39m: No module named 'colorcet'"
     ]
    }
   ],
   "source": [
    "import sys\n",
    "import os\n",
    "sys.path.append(os.path.join(os.environ['ATS_SRC_DIR'],'tools', 'utils'))\n",
    "sys.path.append('../notebooks/libs')\n",
    "\n",
    "import ats_xdmf as ats_xdmf\n",
    "import ats_vis as atsvis\n",
    "from matplotlib import pyplot as plt\n",
    "from ipywidgets import interact, IntSlider\n",
    "try:\n",
    "    import colorcet as cc\n",
    "except ImportError:\n",
    "    !{sys.executable} -m pip install colorcet\n",
    "    import colorcet as cc\n",
    "    "
   ]
  },
  {
   "cell_type": "code",
   "execution_count": null,
   "id": "cd8aeda4",
   "metadata": {},
   "outputs": [],
   "source": [
    "# specify simulation result folder\n",
    "data_directory = './results'\n",
    "\n",
    "# load subsurface domain (None means subsurface) visualization\n",
    "vis_domain = ats_xdmf.VisFile(data_directory, domain=None, output_time_unit='d')\n",
    "vis_domain.loadMeshPolygons()\n",
    "vis_domain.loadMesh()\n",
    "\n",
    "# load surface domain visualization\n",
    "vis_surface = ats_xdmf.VisFile(data_directory, domain='surface', output_time_unit='d')\n",
    "vis_surface.loadMesh(order=['x','z'])"
   ]
  },
  {
   "cell_type": "code",
   "execution_count": null,
   "id": "45d66a0f",
   "metadata": {},
   "outputs": [
    {
     "data": {
      "application/vnd.jupyter.widget-view+json": {
       "model_id": "59654687548c49abab3db980760170e3",
       "version_major": 2,
       "version_minor": 0
      },
      "text/plain": [
       "interactive(children=(IntSlider(value=0, description='step', max=240), Output()), _dom_classes=('widget-intera…"
      ]
     },
     "metadata": {},
     "output_type": "display_data"
    },
    {
     "data": {
      "text/plain": [
       "<function __main__.<lambda>(step)>"
      ]
     },
     "execution_count": 9,
     "metadata": {},
     "output_type": "execute_result"
    }
   ],
   "source": [
    "# interactive plot for multiple variables in the subsurface domain\n",
    "interact(\n",
    "    lambda step: atsvis.plot_subsurface(\n",
    "        step,\n",
    "        vis_domain,\n",
    "        vis_surface,\n",
    "        [\"saturation_liquid\", \"mole_fraction.Tracer1\", \"mole_fraction.Tracer2\"],\n",
    "        vmin=[0.4, 1e-10, 1e-5],\n",
    "        vmax=[1, 1e-7, 1e-1],\n",
    "        cmap=[\"jet_r\", cc.cm.CET_R4, cc.cm.CET_R4],\n",
    "        log_scales=[False, True, True],\n",
    "        plot_ponding=True,  # plot ponding depth above the first plot\n",
    "        aspect= 4/1,  # ratio aspect between z-direction and x-direction\n",
    "    ),\n",
    "    step=IntSlider(min=0, max=len(vis_domain.cycles) - 1, step=1, value=0),\n",
    "    continuous_update=False,\n",
    ")"
   ]
  },
  {
   "cell_type": "code",
   "execution_count": null,
   "id": "89739aba",
   "metadata": {},
   "outputs": [],
   "source": []
  }
 ],
 "metadata": {
  "kernelspec": {
   "display_name": "Python 3 (ipykernel)",
   "language": "python",
   "name": "python3"
  },
  "language_info": {
   "codemirror_mode": {
    "name": "ipython",
    "version": 3
   },
   "file_extension": ".py",
   "mimetype": "text/x-python",
   "name": "python",
   "nbconvert_exporter": "python",
   "pygments_lexer": "ipython3",
   "version": "3.12.11"
  }
 },
 "nbformat": 4,
 "nbformat_minor": 5
}
