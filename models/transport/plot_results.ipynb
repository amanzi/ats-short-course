{
 "cells": [
  {
   "cell_type": "code",
   "execution_count": null,
   "id": "f5aea39c",
   "metadata": {},
   "outputs": [],
   "source": [
    "import sys\n",
    "import os\n",
    "sys.path.append(os.path.join(os.environ['ATS_SRC_DIR'],'tools', 'utils'))\n",
    "sys.path.append('../notebooks/libs')\n",
    "\n",
    "import ats_xdmf as ats_xdmf\n",
    "import ats_vis as atsvis\n",
    "from matplotlib import pyplot as plt\n",
    "from ipywidgets import interact, IntSlider\n",
    "import colorcet as cc"
   ]
  },
  {
   "cell_type": "code",
   "execution_count": null,
   "id": "cd8aeda4",
   "metadata": {},
   "outputs": [],
   "source": [
    "# specify simulation result folder\n",
    "data_directory = './results'\n",
    "\n",
    "# load subsurface domain (None means subsurface) visualization\n",
    "vis_domain = ats_xdmf.VisFile(data_directory, domain=None, output_time_unit='d')\n",
    "vis_domain.loadMeshPolygons()\n",
    "vis_domain.loadMesh()\n",
    "\n",
    "# load surface domain visualization\n",
    "vis_surface = ats_xdmf.VisFile(data_directory, domain='surface', output_time_unit='d')\n",
    "vis_surface.loadMesh(order=['x','z'])"
   ]
  },
  {
   "cell_type": "code",
   "execution_count": null,
   "id": "45d66a0f",
   "metadata": {},
   "outputs": [
    {
     "data": {
      "application/vnd.jupyter.widget-view+json": {
       "model_id": "59654687548c49abab3db980760170e3",
       "version_major": 2,
       "version_minor": 0
      },
      "text/plain": [
       "interactive(children=(IntSlider(value=0, description='step', max=240), Output()), _dom_classes=('widget-intera…"
      ]
     },
     "metadata": {},
     "output_type": "display_data"
    },
    {
     "data": {
      "text/plain": [
       "<function __main__.<lambda>(step)>"
      ]
     },
     "execution_count": 9,
     "metadata": {},
     "output_type": "execute_result"
    }
   ],
   "source": [
    "# interactive plot for multiple variables in the subsurface domain\n",
    "interact(\n",
    "    lambda step: atsvis.plot_subsurface(\n",
    "        step,\n",
    "        vis_domain,\n",
    "        vis_surface,\n",
    "        [\"saturation_liquid\", \"mole_fraction.Tracer1\", \"mole_fraction.Tracer2\"],\n",
    "        vmin=[0.4, 1e-10, 1e-5],\n",
    "        vmax=[1, 1e-7, 1e-1],\n",
    "        cmap=[\"jet_r\", cc.cm.CET_R4, cc.cm.CET_R4],\n",
    "        log_scales=[False, True, True],\n",
    "        plot_ponding=True,  # plot ponding depth above the first plot\n",
    "        aspect= 4/1,  # ratio aspect between z-direction and x-direction\n",
    "    ),\n",
    "    step=IntSlider(min=0, max=len(vis_domain.cycles) - 1, step=1, value=0),\n",
    "    continuous_update=False,\n",
    ")"
   ]
  },
  {
   "cell_type": "code",
   "execution_count": null,
   "id": "89739aba",
   "metadata": {},
   "outputs": [],
   "source": []
  }
 ],
 "metadata": {
  "kernelspec": {
   "display_name": "geos",
   "language": "python",
   "name": "python3"
  },
  "language_info": {
   "codemirror_mode": {
    "name": "ipython",
    "version": 3
   },
   "file_extension": ".py",
   "mimetype": "text/x-python",
   "name": "python",
   "nbconvert_exporter": "python",
   "pygments_lexer": "ipython3",
   "version": "3.11.0"
  }
 },
 "nbformat": 4,
 "nbformat_minor": 5
}
