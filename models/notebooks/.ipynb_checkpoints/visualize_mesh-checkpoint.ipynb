{
 "cells": [
  {
   "cell_type": "code",
   "execution_count": 1,
   "id": "b251908d",
   "metadata": {},
   "outputs": [
    {
     "ename": "ImportError",
     "evalue": "dlopen(/Users/pvn/miniconda3arm/envs/vista/lib/python3.13/site-packages/h5py/defs.cpython-313-darwin.so, 0x0002): Symbol not found: _H5Pget_fapl_ros3\n  Referenced from: <9F8B4869-F8BC-305E-8C07-35D1A87225F3> /Users/pvn/miniconda3arm/envs/vista/lib/python3.13/site-packages/h5py/defs.cpython-313-darwin.so\n  Expected in:     <5E2DA018-EFB3-3CCF-9762-C96525BA857A> /Users/pvn/research/ats/ats-dev/amanzi_tpls-install-master-Release/lib/libhdf5.310.5.1.dylib",
     "output_type": "error",
     "traceback": [
      "\u001b[31m---------------------------------------------------------------------------\u001b[39m",
      "\u001b[31mImportError\u001b[39m                               Traceback (most recent call last)",
      "\u001b[36mCell\u001b[39m\u001b[36m \u001b[39m\u001b[32mIn[1]\u001b[39m\u001b[32m, line 8\u001b[39m\n\u001b[32m      6\u001b[39m \u001b[38;5;28;01mimport\u001b[39;00m\u001b[38;5;250m \u001b[39m\u001b[34;01mnumpy\u001b[39;00m\u001b[38;5;250m \u001b[39m\u001b[38;5;28;01mas\u001b[39;00m\u001b[38;5;250m \u001b[39m\u001b[34;01mnp\u001b[39;00m\n\u001b[32m      7\u001b[39m \u001b[38;5;28;01mfrom\u001b[39;00m\u001b[38;5;250m \u001b[39m\u001b[34;01mmatplotlib\u001b[39;00m\u001b[38;5;250m \u001b[39m\u001b[38;5;28;01mimport\u001b[39;00m pyplot \u001b[38;5;28;01mas\u001b[39;00m plt\n\u001b[32m----> \u001b[39m\u001b[32m8\u001b[39m \u001b[38;5;28;01mimport\u001b[39;00m\u001b[38;5;250m \u001b[39m\u001b[34;01mats_vis\u001b[39;00m\u001b[38;5;250m \u001b[39m\u001b[38;5;28;01mas\u001b[39;00m\u001b[38;5;250m \u001b[39m\u001b[34;01matsvis\u001b[39;00m\n\u001b[32m      9\u001b[39m \u001b[38;5;28;01mimport\u001b[39;00m\u001b[38;5;250m \u001b[39m\u001b[34;01mats_xdmf\u001b[39;00m\u001b[38;5;250m \u001b[39m\u001b[38;5;28;01mas\u001b[39;00m\u001b[38;5;250m \u001b[39m\u001b[34;01mats_xdmf\u001b[39;00m\n\u001b[32m     10\u001b[39m \u001b[38;5;28;01mimport\u001b[39;00m\u001b[38;5;250m \u001b[39m\u001b[34;01mpyvista\u001b[39;00m\u001b[38;5;250m \u001b[39m\u001b[38;5;28;01mas\u001b[39;00m\u001b[38;5;250m \u001b[39m\u001b[34;01mpv\u001b[39;00m\n",
      "\u001b[36mFile \u001b[39m\u001b[32m~/research/software/github/ats-short-course/models/notebooks/libs/ats_vis.py:5\u001b[39m\n\u001b[32m      3\u001b[39m \u001b[38;5;28;01mimport\u001b[39;00m\u001b[38;5;250m \u001b[39m\u001b[34;01mnumpy\u001b[39;00m\u001b[38;5;250m \u001b[39m\u001b[38;5;28;01mas\u001b[39;00m\u001b[38;5;250m \u001b[39m\u001b[34;01mnp\u001b[39;00m\n\u001b[32m      4\u001b[39m \u001b[38;5;28;01mimport\u001b[39;00m\u001b[38;5;250m \u001b[39m\u001b[34;01mgeopandas\u001b[39;00m\u001b[38;5;250m \u001b[39m\u001b[38;5;28;01mas\u001b[39;00m\u001b[38;5;250m \u001b[39m\u001b[34;01mgpd\u001b[39;00m\n\u001b[32m----> \u001b[39m\u001b[32m5\u001b[39m \u001b[38;5;28;01mimport\u001b[39;00m\u001b[38;5;250m \u001b[39m\u001b[34;01mh5py\u001b[39;00m\n\u001b[32m      6\u001b[39m \u001b[38;5;28;01mfrom\u001b[39;00m\u001b[38;5;250m \u001b[39m\u001b[34;01mpyproj\u001b[39;00m\u001b[34;01m.\u001b[39;00m\u001b[34;01mcrs\u001b[39;00m\u001b[38;5;250m \u001b[39m\u001b[38;5;28;01mimport\u001b[39;00m CRS\n\u001b[32m      7\u001b[39m \u001b[38;5;28;01mfrom\u001b[39;00m\u001b[38;5;250m \u001b[39m\u001b[34;01mmatplotlib\u001b[39;00m\u001b[38;5;250m \u001b[39m\u001b[38;5;28;01mimport\u001b[39;00m pyplot \u001b[38;5;28;01mas\u001b[39;00m plt\n",
      "\u001b[36mFile \u001b[39m\u001b[32m~/miniconda3arm/envs/vista/lib/python3.13/site-packages/h5py/__init__.py:33\u001b[39m\n\u001b[32m     30\u001b[39m     \u001b[38;5;28;01melse\u001b[39;00m:\n\u001b[32m     31\u001b[39m         \u001b[38;5;28;01mraise\u001b[39;00m\n\u001b[32m---> \u001b[39m\u001b[32m33\u001b[39m \u001b[38;5;28;01mfrom\u001b[39;00m\u001b[38;5;250m \u001b[39m\u001b[34;01m.\u001b[39;00m\u001b[38;5;250m \u001b[39m\u001b[38;5;28;01mimport\u001b[39;00m version\n\u001b[32m     35\u001b[39m \u001b[38;5;28;01mif\u001b[39;00m version.hdf5_version_tuple != version.hdf5_built_version_tuple:\n\u001b[32m     36\u001b[39m     _warn((\u001b[33m\"\u001b[39m\u001b[33mh5py is running against HDF5 \u001b[39m\u001b[38;5;132;01m{0}\u001b[39;00m\u001b[33m when it was built against \u001b[39m\u001b[38;5;132;01m{1}\u001b[39;00m\u001b[33m, \u001b[39m\u001b[33m\"\u001b[39m\n\u001b[32m     37\u001b[39m            \u001b[33m\"\u001b[39m\u001b[33mthis may cause problems\u001b[39m\u001b[33m\"\u001b[39m).format(\n\u001b[32m     38\u001b[39m             \u001b[33m'\u001b[39m\u001b[38;5;132;01m{0}\u001b[39;00m\u001b[33m.\u001b[39m\u001b[38;5;132;01m{1}\u001b[39;00m\u001b[33m.\u001b[39m\u001b[38;5;132;01m{2}\u001b[39;00m\u001b[33m'\u001b[39m.format(*version.hdf5_version_tuple),\n\u001b[32m     39\u001b[39m             \u001b[33m'\u001b[39m\u001b[38;5;132;01m{0}\u001b[39;00m\u001b[33m.\u001b[39m\u001b[38;5;132;01m{1}\u001b[39;00m\u001b[33m.\u001b[39m\u001b[38;5;132;01m{2}\u001b[39;00m\u001b[33m'\u001b[39m.format(*version.hdf5_built_version_tuple)\n\u001b[32m     40\u001b[39m     ))\n",
      "\u001b[36mFile \u001b[39m\u001b[32m~/miniconda3arm/envs/vista/lib/python3.13/site-packages/h5py/version.py:15\u001b[39m\n\u001b[32m     10\u001b[39m \u001b[33;03m\"\"\"\u001b[39;00m\n\u001b[32m     11\u001b[39m \u001b[33;03m    Versioning module for h5py.\u001b[39;00m\n\u001b[32m     12\u001b[39m \u001b[33;03m\"\"\"\u001b[39;00m\n\u001b[32m     14\u001b[39m \u001b[38;5;28;01mfrom\u001b[39;00m\u001b[38;5;250m \u001b[39m\u001b[34;01mcollections\u001b[39;00m\u001b[38;5;250m \u001b[39m\u001b[38;5;28;01mimport\u001b[39;00m namedtuple\n\u001b[32m---> \u001b[39m\u001b[32m15\u001b[39m \u001b[38;5;28;01mfrom\u001b[39;00m\u001b[38;5;250m \u001b[39m\u001b[34;01m.\u001b[39;00m\u001b[38;5;250m \u001b[39m\u001b[38;5;28;01mimport\u001b[39;00m h5 \u001b[38;5;28;01mas\u001b[39;00m _h5\n\u001b[32m     16\u001b[39m \u001b[38;5;28;01mimport\u001b[39;00m\u001b[38;5;250m \u001b[39m\u001b[34;01msys\u001b[39;00m\n\u001b[32m     17\u001b[39m \u001b[38;5;28;01mimport\u001b[39;00m\u001b[38;5;250m \u001b[39m\u001b[34;01mnumpy\u001b[39;00m\n",
      "\u001b[36mFile \u001b[39m\u001b[32mh5py/h5.pyx:1\u001b[39m, in \u001b[36minit h5py.h5\u001b[39m\u001b[34m()\u001b[39m\n",
      "\u001b[31mImportError\u001b[39m: dlopen(/Users/pvn/miniconda3arm/envs/vista/lib/python3.13/site-packages/h5py/defs.cpython-313-darwin.so, 0x0002): Symbol not found: _H5Pget_fapl_ros3\n  Referenced from: <9F8B4869-F8BC-305E-8C07-35D1A87225F3> /Users/pvn/miniconda3arm/envs/vista/lib/python3.13/site-packages/h5py/defs.cpython-313-darwin.so\n  Expected in:     <5E2DA018-EFB3-3CCF-9762-C96525BA857A> /Users/pvn/research/ats/ats-dev/amanzi_tpls-install-master-Release/lib/libhdf5.310.5.1.dylib"
     ]
    }
   ],
   "source": [
    "import sys, os\n",
    "sys.path.append(os.path.join(os.environ['ATS_SRC_DIR'],'tools','meshing','meshing_ats'))\n",
    "sys.path.append('./libs')\n",
    "import meshing_ats\n",
    "import pandas as pd\n",
    "import numpy as np\n",
    "from matplotlib import pyplot as plt\n",
    "import ats_vis as atsvis\n",
    "import ats_xdmf as ats_xdmf\n",
    "import pyvista as pv"
   ]
  },
  {
   "cell_type": "code",
   "execution_count": null,
   "id": "07251ff0",
   "metadata": {},
   "outputs": [
    {
     "data": {
      "application/vnd.jupyter.widget-view+json": {
       "model_id": "7163cb4443f0412dba95b4f9e83dcec3",
       "version_major": 2,
       "version_minor": 0
      },
      "text/plain": [
       "Widget(value='<iframe src=\"http://localhost:62770/index.html?ui=P_0x31fdc2c10_3&reconnect=auto\" class=\"pyvista…"
      ]
     },
     "metadata": {},
     "output_type": "display_data"
    }
   ],
   "source": [
    "filename = '../data/gradient_hillslope.exo'\n",
    "domain_mesh = atsvis.load_mesh_exodus(filename, z_scale=0.0001)\n",
    "pl = atsvis.plot_mesh(domain_mesh, show_scalar_bar=True, set_background=False, \n",
    "                      show_toplayer=False, window_size=[1200, 600])"
   ]
  },
  {
   "cell_type": "markdown",
   "id": "edb869ca",
   "metadata": {},
   "source": []
  },
  {
   "cell_type": "code",
   "execution_count": null,
   "id": "be9b60fc",
   "metadata": {},
   "outputs": [
    {
     "data": {
      "application/vnd.jupyter.widget-view+json": {
       "model_id": "0ad1896c79a5417aaadcac59eb7ebc3f",
       "version_major": 2,
       "version_minor": 0
      },
      "text/plain": [
       "Widget(value='<iframe src=\"http://localhost:62770/index.html?ui=P_0x31fdc2fd0_4&reconnect=auto\" class=\"pyvista…"
      ]
     },
     "metadata": {},
     "output_type": "display_data"
    }
   ],
   "source": [
    "filename = '../data/gradient_hillslope2.exo'\n",
    "domain_mesh = atsvis.load_mesh_exodus(filename, z_scale=0.0001)\n",
    "pl = atsvis.plot_mesh(domain_mesh, show_scalar_bar=True, set_background=False, \n",
    "                      show_toplayer=False, window_size=[1200, 600])"
   ]
  },
  {
   "cell_type": "code",
   "execution_count": null,
   "id": "f2feb616",
   "metadata": {},
   "outputs": [],
   "source": []
  }
 ],
 "metadata": {
  "kernelspec": {
   "display_name": "vista",
   "language": "python",
   "name": "python3"
  },
  "language_info": {
   "codemirror_mode": {
    "name": "ipython",
    "version": 3
   },
   "file_extension": ".py",
   "mimetype": "text/x-python",
   "name": "python",
   "nbconvert_exporter": "python",
   "pygments_lexer": "ipython3",
   "version": "3.13.5"
  }
 },
 "nbformat": 4,
 "nbformat_minor": 5
}
