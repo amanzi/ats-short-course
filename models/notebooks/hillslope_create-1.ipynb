{
 "cells": [
  {
   "cell_type": "markdown",
   "metadata": {},
   "source": [
    "This script generates hillslope mesh with a varying organic layer thickness at the top."
   ]
  },
  {
   "cell_type": "code",
   "execution_count": 1,
   "metadata": {},
   "outputs": [],
   "source": [
    "# Importing all the package needed to run teh watershed workflow\n",
    "import os\n",
    "import numpy as np\n",
    "from matplotlib import pyplot as plt\n",
    "import pandas as pd\n",
    "import logging\n",
    "import sys\n",
    "import watershed_workflow \n",
    "import watershed_workflow.mesh\n",
    "crs=None"
   ]
  },
  {
   "cell_type": "code",
   "execution_count": 2,
   "metadata": {},
   "outputs": [],
   "source": [
    "def create_skew_sigmoid_hillslope_multi(\n",
    "    x_start, x_end, z_top, z_bottom,\n",
    "    num_points, x0_frac=0.3, k=0.1,\n",
    "    densify_ranges=None  # (start, end, factor)\n",
    "):\n",
    "    \"\"\"\n",
    "    Create a left-skewed sigmoid-shaped hillslope profile with optional multiple\n",
    "    densification bands. Each band is (start, end, factor) where factor>=2\n",
    "    means 'factor' times the base resolution inside that band.\n",
    "    \"\"\"\n",
    "    # Base grid and spacing\n",
    "    x_uniform = np.linspace(x_start, x_end, num_points)\n",
    "    print(x_uniform)\n",
    "    step = (x_end - x_start) / (num_points - 1)\n",
    "\n",
    "    # Snap bands to the grid\n",
    "    snapped_bands = []\n",
    "    if densify_ranges is None:\n",
    "        densify_ranges = []\n",
    "    for s, e, f in densify_ranges:\n",
    "        if f is None or f < 2:\n",
    "            continue\n",
    "        s_snap = x_start + round((s - x_start)/step) * step\n",
    "        e_snap = x_start + round((e - x_start)/step) * step\n",
    "        if e_snap <= s_snap:  # ignore empty/invalid\n",
    "            continue\n",
    "        # clamp to domain\n",
    "        s_snap = max(s_snap, x_start)\n",
    "        e_snap = min(e_snap, x_end)\n",
    "        if e_snap > s_snap:\n",
    "            snapped_bands.append((s_snap, e_snap, int(f)))\n",
    "\n",
    "    # For each base interval [x_i, x_{i+1}] decide the local factor\n",
    "    factors = np.zeros(len(x_uniform) - 1, dtype=int)\n",
    "    if len(snapped_bands) > 0:\n",
    "        # Use the interval midpoint to test inclusion in a band\n",
    "        mids = 0.5 * (x_uniform[:-1] + x_uniform[1:])\n",
    "        for s, e, f in snapped_bands:\n",
    "            in_band = (mids >= s) & (mids <= e)\n",
    "            factors[in_band] = np.maximum(factors[in_band], f)\n",
    "\n",
    "    # Build the refined x by subdividing each base interval\n",
    "    xs = []\n",
    "    for i in range(len(x_uniform) - 1):\n",
    "        left, right = x_uniform[i], x_uniform[i + 1]\n",
    "        m = int(factors[i])  # subdivisions factor\n",
    "        # Emit m sub-steps, excluding the right endpoint to avoid duplicates\n",
    "        xs.append(np.linspace(left, right, m + 1, endpoint=False))\n",
    "    xs.append(np.array([x_uniform[-1]]))  # finally add the last endpoint\n",
    "    x_all = np.concatenate(xs)\n",
    "\n",
    "    # Sigmoid z\n",
    "    x0 = x_start + x0_frac * (x_end - x_start)\n",
    "    z = z_bottom + (z_top - z_bottom) / (1 + np.exp(k * (x_all - x0)))\n",
    "\n",
    "    return pd.DataFrame({\"x\": x_all, \"z\": z})"
   ]
  },
  {
   "cell_type": "code",
   "execution_count": 3,
   "metadata": {},
   "outputs": [],
   "source": [
    "def create_skew_sigmoid_hillslope(x_start, x_end, z_top, z_bottom, \n",
    "                                   num_points, x0_frac=0.3, k=0.1):\n",
    "    \"\"\"\n",
    "    Create a left-skewed sigmoid-shaped hillslope profile.\n",
    "    \"\"\"\n",
    "    x0 = x_start + x0_frac * (x_end - x_start)\n",
    "    x = np.linspace(x_start, x_end, num_points)\n",
    "    print(x)\n",
    "    z = z_bottom + (z_top - z_bottom) / (1 + np.exp(k * (x - x0)))\n",
    "    return pd.DataFrame({\"x\": x, \"z\": z})"
   ]
  },
  {
   "cell_type": "code",
   "execution_count": 4,
   "metadata": {},
   "outputs": [],
   "source": [
    "def elliptical_lake_profile(x, lake_left=40, lake_right=60, max_depth=4.0):\n",
    "    \"\"\"\n",
    "    Create a 1D plain (z=0) with an elliptical-arc lake between lake_left and lake_right.\n",
    "    The lake is a half-ellipse with maximum depth 'max_depth' at the midpoint.\n",
    "\n",
    "    Parameters\n",
    "    ----------\n",
    "    x_start, x_end : float\n",
    "        Domain limits for x.\n",
    "    num_points : int\n",
    "        Number of samples across the domain.\n",
    "    lake_left, lake_right : float\n",
    "        Horizontal extents of the lake (shoreline where z returns to 0).\n",
    "    max_depth : float\n",
    "        Maximum depth (positive number) at the lake center.\n",
    "\n",
    "    Returns\n",
    "    -------\n",
    "    pandas.DataFrame with columns ['x','z']\n",
    "    \"\"\"\n",
    "    if lake_right <= lake_left:\n",
    "        raise ValueError(\"lake_right must be greater than lake_left.\")\n",
    "    if max_depth < 0:\n",
    "        raise ValueError(\"max_depth must be positive.\")\n",
    "\n",
    "    a = 0.5 * (lake_right - lake_left)   # horizontal semi-axis\n",
    "    b = float(max_depth)                 # vertical semi-axis (depth)\n",
    "    x0 = 0.5 * (lake_left + lake_right)  # center    \n",
    "    z = np.zeros_like(x, dtype=float)\n",
    "    mask = (x >= lake_left) & (x <= lake_right)\n",
    "    # z(x) for the lower half of an ellipse centered at z=0\n",
    "    under = 1.0 - ((x[mask] - x0) / a) ** 2\n",
    "    under = np.clip(under, 0.0, None)  # numerical safety at the endpoints\n",
    "    z[mask] = -b * np.sqrt(under)\n",
    "\n",
    "    return pd.DataFrame({\"x\": x, \"z\": z})"
   ]
  },
  {
   "cell_type": "code",
   "execution_count": null,
   "metadata": {},
   "outputs": [],
   "source": []
  },
  {
   "cell_type": "code",
   "execution_count": 25,
   "metadata": {},
   "outputs": [
    {
     "name": "stdout",
     "output_type": "stream",
     "text": [
      "[  0.   5.  10.  15.  20.  25.  30.  35.  40.  45.  50.  55.  60.  65.\n",
      "  70.  75.  80.  85.  90.  95. 100. 105. 110. 115. 120. 125. 130. 135.\n",
      " 140. 145. 150. 155. 160. 165. 170. 175. 180. 185. 190. 195. 200. 205.\n",
      " 210. 215. 220. 225. 230. 235. 240. 245. 250. 255. 260. 265. 270. 275.\n",
      " 280. 285. 290. 295. 300. 305. 310. 315. 320. 325. 330. 335. 340. 345.\n",
      " 350. 355. 360. 365. 370. 375. 380. 385. 390. 395. 400. 405. 410. 415.\n",
      " 420. 425. 430. 435. 440. 445. 450. 455. 460. 465. 470. 475. 480. 485.\n",
      " 490. 495. 500.]\n"
     ]
    }
   ],
   "source": [
    "# create the basic profile\n",
    "df_skew = create_skew_sigmoid_hillslope_multi(\n",
    "    x_start=0, x_end=500, z_top=20, z_bottom=0, num_points=101, x0_frac=0.3, k=0.015,\n",
    "    )\n",
    "\n",
    "# create the profile of the ellipse\n",
    "df_ellipse = elliptical_lake_profile(\n",
    "    df_skew.x, lake_left=300, lake_right=400, max_depth=2\n",
    "    )\n",
    "\n",
    "x = df_skew.x\n",
    "z_surf = (df_skew.z + df_ellipse.z).to_numpy()\n",
    "z_bot = (df_skew.z - 10.0).to_numpy()\n"
   ]
  },
  {
   "cell_type": "code",
   "execution_count": 26,
   "metadata": {},
   "outputs": [
    {
     "data": {
      "text/plain": [
       "[<matplotlib.lines.Line2D at 0x163b5f110>]"
      ]
     },
     "execution_count": 26,
     "metadata": {},
     "output_type": "execute_result"
    },
    {
     "data": {
      "image/png": "[encoded data removed]",
      "text/plain": [
       "<Figure size 1500x400 with 1 Axes>"
      ]
     },
     "metadata": {},
     "output_type": "display_data"
    }
   ],
   "source": [
    "# plot the basic profile\n",
    "fig,ax = plt.subplots(1,1,figsize=(15,4))\n",
    "ax.plot(x, z_surf, '-o', ms=4)\n",
    "ax.plot(x, z_bot - 10)\n"
   ]
  },
  {
   "cell_type": "code",
   "execution_count": 28,
   "metadata": {},
   "outputs": [
    {
     "name": "stdout",
     "output_type": "stream",
     "text": [
      "Creating m2 mesh with 100 elements.\n"
     ]
    }
   ],
   "source": [
    "m2 = watershed_workflow.mesh.Mesh2D.from_Transect(x, z_surf)\n",
    "print(f'Creating m2 mesh with {len(m2.conn)} elements.')"
   ]
  },
  {
   "cell_type": "code",
   "execution_count": 29,
   "metadata": {},
   "outputs": [],
   "source": [
    "## Surface : Plateau - 11 / Slope - 12 / Baxio - 13\n",
    "veg_labels_dict = dict(zip([11, 12, 13], ['Plateau', 'Slope', 'Baxio']))\n",
    "\n",
    "veg_colors = []\n",
    "for i in range(len(m2.centroids)):\n",
    "    if m2.centroids[i, 0] <= 25:\n",
    "        veg_colors.append(11)\n",
    "    elif m2.centroids[i, 0] >= 75:\n",
    "        veg_colors.append(13)\n",
    "    else:\n",
    "        veg_colors.append(12)\n",
    "        \n",
    "veg_colors = np.array(veg_colors)\n",
    "\n",
    "# This source code from the .regions.add_nlcd_labeled_sets \n",
    "inds = np.unique(veg_colors)\n",
    "\n",
    "if veg_labels_dict is None:\n",
    "    veg_labels_dict = dict((i, str(i)) for i in inds)\n",
    "\n",
    "for ind in inds:\n",
    "    ent_ids = list(np.where(veg_colors == ind)[0])\n",
    "    ls = watershed_workflow.mesh.LabeledSet(veg_labels_dict[ind], int(ind), 'CELL', ent_ids)\n",
    "    m2.labeled_sets.append(ls)"
   ]
  },
  {
   "cell_type": "code",
   "execution_count": 30,
   "metadata": {},
   "outputs": [],
   "source": [
    "# Function to create mesh for topsoil layers (1.2m)\n",
    "def topsoil():\n",
    "    dz0 = 0.05\n",
    "    r = 1.2\n",
    "    dz_values = dz0 * (r ** np.arange(10))\n",
    "    return dz_values"
   ]
  },
  {
   "cell_type": "code",
   "execution_count": 31,
   "metadata": {},
   "outputs": [],
   "source": [
    "# Function to create mesh for bottom layers (varied in space)\n",
    "def layer2(x1, y1):\n",
    "    # ind = x.astype(int)\n",
    "    toplayer_bottom_elev = np.sum(topsoil())\n",
    "    if x1==0:\n",
    "        ind = 0\n",
    "    else:\n",
    "        ind = np.where(x==x1)[0][0] - 1\n",
    "    value = (z[ind] - toplayer_bottom_elev - 4)/10.\n",
    "    return value"
   ]
  },
  {
   "cell_type": "code",
   "execution_count": 42,
   "metadata": {},
   "outputs": [
    {
     "name": "stdout",
     "output_type": "stream",
     "text": [
      "Extruding:  number of cells = 21 to total depth of 10.0\n",
      "(2, 101)\n",
      "(21, 202)\n",
      "[10.         10.         10.         10.         10.         10.\n",
      " 10.         10.         10.         10.         10.         10.\n",
      " 10.         10.         10.         10.         10.         10.\n",
      " 10.         10.         10.         10.         10.         10.\n",
      " 10.         10.         10.         10.         10.         10.\n",
      " 10.         10.         10.         10.         10.         10.\n",
      " 10.         10.         10.         10.         10.         10.\n",
      " 10.         10.         10.         10.         10.         10.\n",
      " 10.         10.         10.         10.         10.         10.\n",
      " 10.         10.         10.         10.         10.         10.\n",
      " 10.          9.12822021  8.8         8.57171431  8.4         8.26794919\n",
      "  8.16696972  8.0921216   8.04040821  8.01002513  8.          8.01002513\n",
      "  8.04040821  8.0921216   8.16696972  8.26794919  8.4         8.57171431\n",
      "  8.8         9.12822021 10.         10.         10.         10.\n",
      " 10.         10.         10.         10.         10.         10.\n",
      " 10.         10.         10.         10.         10.         10.\n",
      " 10.         10.         10.         10.         10.         10.\n",
      " 10.         10.         10.         10.         10.         10.\n",
      " 10.         10.         10.         10.         10.         10.\n",
      " 10.         10.         10.         10.         10.         10.\n",
      " 10.         10.         10.         10.         10.         10.\n",
      " 10.         10.         10.         10.         10.         10.\n",
      " 10.         10.         10.         10.         10.         10.\n",
      " 10.         10.         10.         10.         10.         10.\n",
      " 10.         10.         10.         10.         10.         10.\n",
      " 10.         10.         10.         10.         10.         10.\n",
      " 10.         10.         10.         10.         10.         10.\n",
      "  9.12822021  8.8         8.57171431  8.4         8.26794919  8.16696972\n",
      "  8.0921216   8.04040821  8.01002513  8.          8.01002513  8.04040821\n",
      "  8.0921216   8.16696972  8.26794919  8.4         8.57171431  8.8\n",
      "  9.12822021 10.         10.         10.         10.         10.\n",
      " 10.         10.         10.         10.         10.         10.\n",
      " 10.         10.         10.         10.         10.         10.\n",
      " 10.         10.         10.         10.        ]\n"
     ]
    }
   ],
   "source": [
    "dzs = [ [0.05,]*4, [0.1,]*4, [0.2,]*3, [0.4,]*2, [1.0,]*8]\n",
    "dzs = [i for j in dzs for i in j]\n",
    "nz = len(dzs)\n",
    "print(f'Extruding:  number of cells = {nz} to total depth of {sum(dzs)}')\n",
    "\n",
    "# layer extrusion\n",
    "# -- data structures needed for extrusion\n",
    "layer_types = []\n",
    "layer_data = []\n",
    "layer_ncells = []\n",
    "layer_mat_ids = []\n",
    "\n",
    "for i, dz in enumerate(dzs):\n",
    "    #if i <= 9:\n",
    "    layer_types.append('vertex')\n",
    "    layer_data.append(dz)\n",
    "    layer_mat_ids.append(1001)\n",
    "    #else:\n",
    "    #    layer_types.append('function')\n",
    "    #    layer_data.append(dz)\n",
    "    #    layer_mat_ids.append(1001)\n",
    "        \n",
    "    layer_ncells.append(1)\n",
    "\n",
    "\n",
    "# squish the vertical\n",
    "squish_factor = (z_surf - z_bot) / 10.\n",
    "\n",
    "o1 = np.outer(np.array([1,1]), squish_factor)\n",
    "print(o1.shape)\n",
    "\n",
    "layer_data = np.outer(np.array(dzs), o1)\n",
    "print(layer_data.shape)\n",
    "print(layer_data.sum(0))\n",
    "\n",
    "\n",
    "m3 = watershed_workflow.mesh.Mesh3D.extruded_Mesh2D(m2, layer_types, list(layer_data), layer_ncells, layer_mat_ids)\n"
   ]
  },
  {
   "cell_type": "code",
   "execution_count": 43,
   "metadata": {},
   "outputs": [],
   "source": [
    "# Set subsurface regions\n",
    "mat_c = []\n",
    "for i in range(len(m2.centroids)):\n",
    "    if m2.centroids[i, 0] <= 25:\n",
    "        mat_c.append(101)\n",
    "    elif m2.centroids[i, 0] >= 75:\n",
    "        mat_c.append(103)\n",
    "    else:\n",
    "        mat_c.append(102)\n",
    "\n",
    "mat_ids = []\n",
    "for i in range(30): # dz layers \n",
    "    mat_ids.append(mat_c)\n",
    "mat_ids = np.array(mat_ids)\n",
    "\n",
    "#### Subsurface : Plateau - 101 / Slope - 102 / Baxio - 103\n",
    "mesh2D = m2\n",
    "layer_types = layer_types\n",
    "layer_data = layer_data\n",
    "ncells_per_layer = layer_ncells\n",
    "np_mat_ids = mat_ids\n",
    "\n",
    "material_ids = np.zeros((m3.num_cells, ), 'i')\n",
    "\n",
    "ncells_tall = sum(ncells_per_layer)\n",
    "ncells_total = ncells_tall * mesh2D.num_cells\n",
    "cells = [list() for c in range(ncells_total)]\n",
    "\n",
    "eh = watershed_workflow.mesh._ExtrusionHelper(ncells_tall, mesh2D.num_cells)\n",
    "\n",
    "for col in range(mesh2D.num_cells):\n",
    "    z_cell = 0\n",
    "    for ilay in range(len(ncells_per_layer)):\n",
    "        ncells = ncells_per_layer[ilay]\n",
    "        for i in range(z_cell, z_cell + ncells):\n",
    "            material_ids[eh.col_to_id(col, i)] = np_mat_ids[ilay, col]\n",
    "        z_cell = z_cell + ncells\n",
    "\n",
    "m3.material_ids = material_ids\n",
    "m3.material_ids_list[:] = list(np.unique(material_ids))"
   ]
  },
  {
   "cell_type": "code",
   "execution_count": 44,
   "metadata": {},
   "outputs": [
    {
     "name": "stdout",
     "output_type": "stream",
     "text": [
      "Opening exodus file: ../data/gradient_hillslope1.exo\n",
      "Closing exodus file: ../data/gradient_hillslope1.exo\n"
     ]
    }
   ],
   "source": [
    "# Save mesh \n",
    "filename = '../data/gradient_hillslope1.exo'\n",
    "if os.path.exists(filename):\n",
    "    os.remove(filename)\n",
    "m3.writeExodus(filename)"
   ]
  },
  {
   "cell_type": "code",
   "execution_count": null,
   "metadata": {},
   "outputs": [],
   "source": []
  }
 ],
 "metadata": {
  "anaconda-cloud": {},
  "kernelspec": {
   "display_name": "Python [conda env:watershed-workflow-geopandas-20250430]",
   "language": "python",
   "name": "conda-env-watershed-workflow-geopandas-20250430-py"
  },
  "language_info": {
   "codemirror_mode": {
    "name": "ipython",
    "version": 3
   },
   "file_extension": ".py",
   "mimetype": "text/x-python",
   "name": "python",
   "nbconvert_exporter": "python",
   "pygments_lexer": "ipython3",
   "version": "3.11.12"
  }
 },
 "nbformat": 4,
 "nbformat_minor": 4
}
