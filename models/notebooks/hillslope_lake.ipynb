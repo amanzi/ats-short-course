{
 "cells": [
  {
   "cell_type": "markdown",
   "metadata": {},
   "source": [
    "This script generates hillslope mesh with a varying organic layer thickness at the top."
   ]
  },
  {
   "cell_type": "code",
   "execution_count": 1,
   "metadata": {},
   "outputs": [],
   "source": [
    "import os\n",
    "import numpy as np\n",
    "from matplotlib import pyplot as plt\n",
    "import pandas as pd\n",
    "\n",
    "import exodus3\n",
    "import watershed_workflow.mesh"
   ]
  },
  {
   "cell_type": "code",
   "execution_count": 2,
   "metadata": {},
   "outputs": [],
   "source": [
    "def create_skew_sigmoid_hillslope_multi(\n",
    "    x_start, x_end, z_top, z_bottom,\n",
    "    num_points, x0_frac=0.3, k=0.1,\n",
    "    densify_ranges=None  # (start, end, factor)\n",
    "):\n",
    "    \"\"\"\n",
    "    Create a left-skewed sigmoid-shaped hillslope profile with optional multiple\n",
    "    densification bands. Each band is (start, end, factor) where factor>=2\n",
    "    means 'factor' times the base resolution inside that band.\n",
    "    \"\"\"\n",
    "    # Base grid and spacing\n",
    "    x_uniform = np.linspace(x_start, x_end, num_points)\n",
    "    print(x_uniform)\n",
    "    step = (x_end - x_start) / (num_points - 1)\n",
    "\n",
    "    # Snap bands to the grid\n",
    "    snapped_bands = []\n",
    "    if densify_ranges is None:\n",
    "        densify_ranges = []\n",
    "    for s, e, f in densify_ranges:\n",
    "        if f is None or f < 2:\n",
    "            continue\n",
    "        s_snap = x_start + round((s - x_start)/step) * step\n",
    "        e_snap = x_start + round((e - x_start)/step) * step\n",
    "        if e_snap <= s_snap:  # ignore empty/invalid\n",
    "            continue\n",
    "        # clamp to domain\n",
    "        s_snap = max(s_snap, x_start)\n",
    "        e_snap = min(e_snap, x_end)\n",
    "        if e_snap > s_snap:\n",
    "            snapped_bands.append((s_snap, e_snap, int(f)))\n",
    "\n",
    "    # For each base interval [x_i, x_{i+1}] decide the local factor\n",
    "    factors = np.zeros(len(x_uniform) - 1, dtype=int)\n",
    "    if len(snapped_bands) > 0:\n",
    "        # Use the interval midpoint to test inclusion in a band\n",
    "        mids = 0.5 * (x_uniform[:-1] + x_uniform[1:])\n",
    "        for s, e, f in snapped_bands:\n",
    "            in_band = (mids >= s) & (mids <= e)\n",
    "            factors[in_band] = np.maximum(factors[in_band], f)\n",
    "\n",
    "    # Build the refined x by subdividing each base interval\n",
    "    xs = []\n",
    "    for i in range(len(x_uniform) - 1):\n",
    "        left, right = x_uniform[i], x_uniform[i + 1]\n",
    "        m = int(factors[i])  # subdivisions factor\n",
    "        # Emit m sub-steps, excluding the right endpoint to avoid duplicates\n",
    "        xs.append(np.linspace(left, right, m + 1, endpoint=False))\n",
    "    xs.append(np.array([x_uniform[-1]]))  # finally add the last endpoint\n",
    "    x_all = np.concatenate(xs)\n",
    "\n",
    "    # Sigmoid z\n",
    "    x0 = x_start + x0_frac * (x_end - x_start)\n",
    "    z = z_bottom + (z_top - z_bottom) / (1 + np.exp(k * (x_all - x0)))\n",
    "\n",
    "    return pd.DataFrame({\"x\": x_all, \"z\": z})"
   ]
  },
  {
   "cell_type": "code",
   "execution_count": 3,
   "metadata": {},
   "outputs": [],
   "source": [
    "def create_skew_sigmoid_hillslope(x_start, x_end, z_top, z_bottom, \n",
    "                                   num_points, x0_frac=0.3, k=0.1):\n",
    "    \"\"\"\n",
    "    Create a left-skewed sigmoid-shaped hillslope profile.\n",
    "    \"\"\"\n",
    "    x0 = x_start + x0_frac * (x_end - x_start)\n",
    "    x = np.linspace(x_start, x_end, num_points)\n",
    "    print(x)\n",
    "    z = z_bottom + (z_top - z_bottom) / (1 + np.exp(k * (x - x0)))\n",
    "    return pd.DataFrame({\"x\": x, \"z\": z})"
   ]
  },
  {
   "cell_type": "code",
   "execution_count": 4,
   "metadata": {},
   "outputs": [],
   "source": [
    "def elliptical_lake_profile(x, lake_left=40, lake_right=60, max_depth=4.0):\n",
    "    \"\"\"\n",
    "    Create a 1D plain (z=0) with an elliptical-arc lake between lake_left and lake_right.\n",
    "    The lake is a half-ellipse with maximum depth 'max_depth' at the midpoint.\n",
    "\n",
    "    Parameters\n",
    "    ----------\n",
    "    x_start, x_end : float\n",
    "        Domain limits for x.\n",
    "    num_points : int\n",
    "        Number of samples across the domain.\n",
    "    lake_left, lake_right : float\n",
    "        Horizontal extents of the lake (shoreline where z returns to 0).\n",
    "    max_depth : float\n",
    "        Maximum depth (positive number) at the lake center.\n",
    "\n",
    "    Returns\n",
    "    -------\n",
    "    pandas.DataFrame with columns ['x','z']\n",
    "    \"\"\"\n",
    "    if lake_right <= lake_left:\n",
    "        raise ValueError(\"lake_right must be greater than lake_left.\")\n",
    "    if max_depth < 0:\n",
    "        raise ValueError(\"max_depth must be positive.\")\n",
    "\n",
    "    a = 0.5 * (lake_right - lake_left)   # horizontal semi-axis\n",
    "    b = float(max_depth)                 # vertical semi-axis (depth)\n",
    "    x0 = 0.5 * (lake_left + lake_right)  # center    \n",
    "    z = np.zeros_like(x, dtype=float)\n",
    "    mask = (x >= lake_left) & (x <= lake_right)\n",
    "    # z(x) for the lower half of an ellipse centered at z=0\n",
    "    under = 1.0 - ((x[mask] - x0) / a) ** 2\n",
    "    under = np.clip(under, 0.0, None)  # numerical safety at the endpoints\n",
    "    z[mask] = -b * np.sqrt(under)\n",
    "\n",
    "    return pd.DataFrame({\"x\": x, \"z\": z})"
   ]
  },
  {
   "cell_type": "code",
   "execution_count": null,
   "metadata": {},
   "outputs": [],
   "source": []
  },
  {
   "cell_type": "code",
   "execution_count": 5,
   "metadata": {},
   "outputs": [
    {
     "name": "stdout",
     "output_type": "stream",
     "text": [
      "[  0.   5.  10.  15.  20.  25.  30.  35.  40.  45.  50.  55.  60.  65.\n",
      "  70.  75.  80.  85.  90.  95. 100. 105. 110. 115. 120. 125. 130. 135.\n",
      " 140. 145. 150. 155. 160. 165. 170. 175. 180. 185. 190. 195. 200. 205.\n",
      " 210. 215. 220. 225. 230. 235. 240. 245. 250. 255. 260. 265. 270. 275.\n",
      " 280. 285. 290. 295. 300. 305. 310. 315. 320. 325. 330. 335. 340. 345.\n",
      " 350. 355. 360. 365. 370. 375. 380. 385. 390. 395. 400. 405. 410. 415.\n",
      " 420. 425. 430. 435. 440. 445. 450. 455. 460. 465. 470. 475. 480. 485.\n",
      " 490. 495. 500.]\n"
     ]
    }
   ],
   "source": [
    "# create the basic profile\n",
    "df_skew = create_skew_sigmoid_hillslope_multi(\n",
    "    x_start=0, x_end=500, z_top=20, z_bottom=0, num_points=101, x0_frac=0.3, k=0.015,\n",
    "    )\n",
    "\n",
    "# create the profile of the ellipse\n",
    "df_ellipse = elliptical_lake_profile(\n",
    "    df_skew.x, lake_left=300, lake_right=400, max_depth=2\n",
    "    )\n",
    "\n",
    "x = df_skew.x\n",
    "z_surf = (df_skew.z + df_ellipse.z).to_numpy()\n",
    "z_topsoil = (df_skew.z - 1.2).to_numpy()\n",
    "z_bot = (df_skew.z - 10.0).to_numpy()\n"
   ]
  },
  {
   "cell_type": "code",
   "execution_count": 6,
   "metadata": {},
   "outputs": [
    {
     "data": {
      "text/plain": [
       "[<matplotlib.lines.Line2D at 0x14e70dad0>]"
      ]
     },
     "execution_count": 6,
     "metadata": {},
     "output_type": "execute_result"
    },
    {
     "data": {
      "image/png": "[encoded data removed]",
      "text/plain": [
       "<Figure size 1500x400 with 1 Axes>"
      ]
     },
     "metadata": {},
     "output_type": "display_data"
    }
   ],
   "source": [
    "# plot the basic profile\n",
    "fig,ax = plt.subplots(1,1,figsize=(15,4))\n",
    "ax.plot(x, z_surf, '-o', ms=4)\n",
    "ax.plot(x, z_topsoil, 'r')\n",
    "ax.plot(x, z_bot - 10, 'k')\n"
   ]
  },
  {
   "cell_type": "code",
   "execution_count": 7,
   "metadata": {},
   "outputs": [
    {
     "name": "stdout",
     "output_type": "stream",
     "text": [
      "Creating m2 mesh with 100 elements.\n"
     ]
    }
   ],
   "source": [
    "m2 = watershed_workflow.mesh.Mesh2D.from_Transect(x, z_surf)\n",
    "print(f'Creating m2 mesh with {len(m2.conn)} elements.')"
   ]
  },
  {
   "cell_type": "code",
   "execution_count": 8,
   "metadata": {},
   "outputs": [
    {
     "name": "stdout",
     "output_type": "stream",
     "text": [
      "hillslope 11 CELL 60\n",
      "lake 12 CELL 20\n",
      "toeslope 13 CELL 20\n",
      "golf course 14 CELL 20\n",
      "forested 15 CELL 40\n"
     ]
    }
   ],
   "source": [
    "# Surface regions :\n",
    "hillslope = 0, 300 # start and end, [m]\n",
    "lake = 300, 400\n",
    "toeslope = 400, 500\n",
    "golf_course = 100, 200\n",
    "forested1 = (0, 100)\n",
    "forested2 = 200, 300\n",
    "\n",
    "def getCells(start, end):\n",
    "    return np.where(np.bitwise_and(m2.centroids[:,0] > start,\n",
    "                                   m2.centroids[:,0] < end))[0]\n",
    "\n",
    "def addLabeledSet(label, label_id, bounds):\n",
    "    if isinstance(bounds, tuple):\n",
    "        bounds = [bounds,]\n",
    "\n",
    "    cells = [c for b in bounds for c in getCells(*b)]\n",
    "    ls = watershed_workflow.mesh.LabeledSet(label, label_id, 'CELL', cells, to_extrude=False)\n",
    "    m2.labeled_sets.append(ls)\n",
    "    return ls\n",
    "\n",
    "addLabeledSet('hillslope', 11, hillslope)\n",
    "addLabeledSet('lake', 12, lake)\n",
    "addLabeledSet('toeslope', 13, toeslope)\n",
    "addLabeledSet('golf course', 14, golf_course)\n",
    "addLabeledSet('forested', 15, [forested1, forested2])\n",
    "\n",
    "for ls in m2.labeled_sets:\n",
    "    print(ls.name, ls.setid, ls.entity, len(ls.ent_ids))\n"
   ]
  },
  {
   "cell_type": "code",
   "execution_count": 9,
   "metadata": {},
   "outputs": [
    {
     "name": "stdout",
     "output_type": "stream",
     "text": [
      "Extruding:  number of cells = 17 to total depth of 10.0\n",
      "(17, 202)\n",
      "[10.         10.         10.         10.         10.         10.\n",
      " 10.         10.         10.         10.         10.         10.\n",
      " 10.         10.         10.         10.         10.         10.\n",
      " 10.         10.         10.         10.         10.         10.\n",
      " 10.         10.         10.         10.         10.         10.\n",
      " 10.         10.         10.         10.         10.         10.\n",
      " 10.         10.         10.         10.         10.         10.\n",
      " 10.         10.         10.         10.         10.         10.\n",
      " 10.         10.         10.         10.         10.         10.\n",
      " 10.         10.         10.         10.         10.         10.\n",
      " 10.          9.12822021  8.8         8.57171431  8.4         8.26794919\n",
      "  8.16696972  8.0921216   8.04040821  8.01002513  8.          8.01002513\n",
      "  8.04040821  8.0921216   8.16696972  8.26794919  8.4         8.57171431\n",
      "  8.8         9.12822021 10.         10.         10.         10.\n",
      " 10.         10.         10.         10.         10.         10.\n",
      " 10.         10.         10.         10.         10.         10.\n",
      " 10.         10.         10.         10.         10.         10.\n",
      " 10.         10.         10.         10.         10.         10.\n",
      " 10.         10.         10.         10.         10.         10.\n",
      " 10.         10.         10.         10.         10.         10.\n",
      " 10.         10.         10.         10.         10.         10.\n",
      " 10.         10.         10.         10.         10.         10.\n",
      " 10.         10.         10.         10.         10.         10.\n",
      " 10.         10.         10.         10.         10.         10.\n",
      " 10.         10.         10.         10.         10.         10.\n",
      " 10.         10.         10.         10.         10.         10.\n",
      " 10.         10.         10.         10.         10.         10.\n",
      "  9.12822021  8.8         8.57171431  8.4         8.26794919  8.16696972\n",
      "  8.0921216   8.04040821  8.01002513  8.          8.01002513  8.04040821\n",
      "  8.0921216   8.16696972  8.26794919  8.4         8.57171431  8.8\n",
      "  9.12822021 10.         10.         10.         10.         10.\n",
      " 10.         10.         10.         10.         10.         10.\n",
      " 10.         10.         10.         10.         10.         10.\n",
      " 10.         10.         10.         10.        ]\n"
     ]
    }
   ],
   "source": [
    "dzs = [ [0.05,]*4, [0.1,]*4, [0.2,]*3, [0.4,]*2, [1., 1., 2., 4,] ]\n",
    "dzs = [i for j in dzs for i in j]\n",
    "nz = len(dzs)\n",
    "print(f'Extruding:  number of cells = {nz} to total depth of {sum(dzs)}')\n",
    "\n",
    "# layer extrusion\n",
    "# -- data structures needed for extrusion\n",
    "layer_types = ['vertex',] * nz\n",
    "layer_ncells = [1,] * nz\n",
    "\n",
    "# squish the vertical under the lake\n",
    "squish_factor = (z_surf - z_bot) / sum(dzs)\n",
    "o1 = np.outer(np.array([1,1]), squish_factor)\n",
    "\n",
    "layer_data = np.outer(np.array(dzs), o1)\n",
    "print(layer_data.shape)\n",
    "print(layer_data.sum(0))\n",
    "\n",
    "# 11 layers --> topsoil 1.2m\n",
    "cumulative_dzs = np.cumsum(dzs)\n",
    "layer_mat_ids = np.where(cumulative_dzs < 1.2, 101, 102)\n",
    "\n",
    "# extrude\n",
    "m3 = watershed_workflow.mesh.Mesh3D.extruded_Mesh2D(m2, layer_types, list(layer_data), layer_ncells, layer_mat_ids)\n"
   ]
  },
  {
   "cell_type": "code",
   "execution_count": 10,
   "metadata": {},
   "outputs": [
    {
     "name": "stdout",
     "output_type": "stream",
     "text": [
      "\n",
      "You are using exodus.py v 1.20.10 (seacas-py3), a python wrapper of some of the exodus library.\n",
      "\n",
      "Copyright (c) 2013, 2014, 2015, 2016, 2017, 2018, 2019, 2020, 2021 National Technology &\n",
      "Engineering Solutions of Sandia, LLC (NTESS).  Under the terms of\n",
      "Contract DE-NA0003525 with NTESS, the U.S. Government retains certain\n",
      "rights in this software.\n",
      "\n",
      "Opening exodus file: ../data/hillslope_lake.exo\n",
      "Closing exodus file: ../data/hillslope_lake.exo\n"
     ]
    }
   ],
   "source": [
    "# Save mesh \n",
    "filename = '../data/hillslope_lake.exo'\n",
    "if os.path.exists(filename):\n",
    "    os.remove(filename)\n",
    "m3.writeExodus(filename)"
   ]
  },
  {
   "cell_type": "code",
   "execution_count": null,
   "metadata": {},
   "outputs": [],
   "source": []
  }
 ],
 "metadata": {
  "anaconda-cloud": {},
  "kernelspec": {
   "display_name": "Python [conda env:watershed-workflow-geopandas-20250430]",
   "language": "python",
   "name": "conda-env-watershed-workflow-geopandas-20250430-py"
  },
  "language_info": {
   "codemirror_mode": {
    "name": "ipython",
    "version": 3
   },
   "file_extension": ".py",
   "mimetype": "text/x-python",
   "name": "python",
   "nbconvert_exporter": "python",
   "pygments_lexer": "ipython3",
   "version": "3.11.12"
  }
 },
 "nbformat": 4,
 "nbformat_minor": 4
}
