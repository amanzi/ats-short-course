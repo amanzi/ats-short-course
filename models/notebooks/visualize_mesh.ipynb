{
 "cells": [
  {
   "cell_type": "code",
   "execution_count": 5,
   "id": "b251908d",
   "metadata": {},
   "outputs": [],
   "source": [
    "import sys, os\n",
    "sys.path.append(os.path.join(os.environ['ATS_SRC_DIR'],'tools','meshing','meshing_ats'))\n",
    "sys.path.append('./libs')\n",
    "import meshing_ats\n",
    "import pandas as pd\n",
    "import numpy as np\n",
    "from matplotlib import pyplot as plt\n",
    "import ats_vis as atsvis\n",
    "import ats_xdmf as ats_xdmf\n",
    "import pyvista as pv"
   ]
  },
  {
   "cell_type": "code",
   "execution_count": null,
   "id": "07251ff0",
   "metadata": {},
   "outputs": [
    {
     "data": {
      "application/vnd.jupyter.widget-view+json": {
       "model_id": "7163cb4443f0412dba95b4f9e83dcec3",
       "version_major": 2,
       "version_minor": 0
      },
      "text/plain": [
       "Widget(value='<iframe src=\"http://localhost:62770/index.html?ui=P_0x31fdc2c10_3&reconnect=auto\" class=\"pyvista…"
      ]
     },
     "metadata": {},
     "output_type": "display_data"
    }
   ],
   "source": [
    "filename = '../data/gradient_hillslope.exo'\n",
    "domain_mesh = atsvis.load_mesh_exodus(filename, z_scale=0.0001)\n",
    "pl = atsvis.plot_mesh(domain_mesh, show_scalar_bar=True, set_background=False, \n",
    "                      show_toplayer=False, window_size=[1200, 600])"
   ]
  },
  {
   "cell_type": "code",
   "execution_count": 7,
   "id": "be9b60fc",
   "metadata": {},
   "outputs": [
    {
     "data": {
      "application/vnd.jupyter.widget-view+json": {
       "model_id": "0ad1896c79a5417aaadcac59eb7ebc3f",
       "version_major": 2,
       "version_minor": 0
      },
      "text/plain": [
       "Widget(value='<iframe src=\"http://localhost:62770/index.html?ui=P_0x31fdc2fd0_4&reconnect=auto\" class=\"pyvista…"
      ]
     },
     "metadata": {},
     "output_type": "display_data"
    }
   ],
   "source": [
    "filename = '../data/hillslope_higres.exo'\n",
    "domain_mesh = atsvis.load_mesh_exodus(filename, z_scale=0.0001)\n",
    "pl = atsvis.plot_mesh(domain_mesh, show_scalar_bar=True, set_background=False, \n",
    "                      show_toplayer=False, window_size=[1200, 600])"
   ]
  },
  {
   "cell_type": "code",
   "execution_count": null,
   "id": "f2feb616",
   "metadata": {},
   "outputs": [],
   "source": []
  }
 ],
 "metadata": {
  "kernelspec": {
   "display_name": "vista",
   "language": "python",
   "name": "python3"
  },
  "language_info": {
   "codemirror_mode": {
    "name": "ipython",
    "version": 3
   },
   "file_extension": ".py",
   "mimetype": "text/x-python",
   "name": "python",
   "nbconvert_exporter": "python",
   "pygments_lexer": "ipython3",
   "version": "3.13.5"
  }
 },
 "nbformat": 4,
 "nbformat_minor": 5
}
