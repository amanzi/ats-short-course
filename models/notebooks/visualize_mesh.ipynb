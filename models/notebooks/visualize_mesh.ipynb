{
 "cells": [
  {
   "cell_type": "code",
   "execution_count": null,
   "id": "b251908d",
   "metadata": {},
   "outputs": [],
   "source": [
    "import sys, os\n",
    "sys.path.append('./libs')\n",
    "import pandas as pd\n",
    "import numpy as np\n",
    "from matplotlib import pyplot as plt\n",
    "import ats_vis as atsvis\n",
    "import ats_xdmf as ats_xdmf\n",
    "import pyvista as pv"
   ]
  },
  {
   "cell_type": "code",
   "execution_count": null,
   "id": "be9b60fc",
   "metadata": {},
   "outputs": [],
   "source": [
    "filename = '../data/gradient_hillslope0.exo'\n",
    "domain_mesh = atsvis.load_mesh_exodus(filename, z_scale=0.0001)\n",
    "pl = atsvis.plot_mesh(domain_mesh, show_scalar_bar=True, set_background=False, \n",
    "                      show_toplayer=False, window_size=[900, 600])"
   ]
  },
  {
   "cell_type": "code",
   "execution_count": null,
   "id": "f2feb616",
   "metadata": {},
   "outputs": [],
   "source": []
  }
 ],
 "metadata": {
  "kernelspec": {
   "display_name": "Python [conda env:pyvista]",
   "language": "python",
   "name": "conda-env-pyvista-py"
  },
  "language_info": {
   "codemirror_mode": {
    "name": "ipython",
    "version": 3
   },
   "file_extension": ".py",
   "mimetype": "text/x-python",
   "name": "python",
   "nbconvert_exporter": "python",
   "pygments_lexer": "ipython3",
   "version": "3.13.5"
  }
 },
 "nbformat": 4,
 "nbformat_minor": 5
}
