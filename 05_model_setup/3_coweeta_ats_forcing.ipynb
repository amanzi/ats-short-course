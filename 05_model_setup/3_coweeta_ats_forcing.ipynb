{
 "cells": [
  {
   "cell_type": "markdown",
   "metadata": {
    "tags": []
   },
   "source": [
    "# AORC Data\n",
    "\n",
    "DayMet's API has recently gone down, leading us to experiment with a new type of met data, AORC, which is the dataset used to drive the National Water Model.\n"
   ]
  },
  {
   "cell_type": "code",
   "execution_count": null,
   "metadata": {},
   "outputs": [],
   "source": [
    "%load_ext autoreload\n",
    "%autoreload 2"
   ]
  },
  {
   "cell_type": "markdown",
   "metadata": {},
   "source": [
    "AORC provides gridded meteorological data for the conterminous US and Alaska at ~800m spatial resolution with hourly timestep from 1979 (Conterminous US) or 1981 (Alaska) ~ present. [website](https://registry.opendata.aws/noaa-nws-aorc/)\n",
    "\n",
    "Available variables:\n",
    "\n",
    "| Variable | Description (units) |\n",
    "| ---- | ---- |\n",
    "| APCP_surface | Total precipitation [mm] |\n",
    "| DLWRF_surface | Incident longwave radiation flux density [W m^-2] |\n",
    "| DSWRF_surface | Incident shortwave radiation flux density [W m^-2]  |\n",
    "| PRES_surface | Air pressure [Pa]  |\n",
    "| SPFH_2maboveground   | Specific Humidity [g/g] |\n",
    "| TMP_2maboveground | Air temperature [°C]|\n",
    "| UGRD_10maboveground | West-East component of the wind velocity [m s^-1] |\n",
    "| VGRD_10maboveground | North-South component of the wind velocity [m s^-1] |\n",
    "\n",
    "Notes:\n",
    " - AORC, unlike DayMet, provides all Gregorian calendar days \n"
   ]
  },
  {
   "cell_type": "code",
   "execution_count": null,
   "metadata": {},
   "outputs": [],
   "source": [
    "%matplotlib inline\n",
    "import matplotlib.pyplot as plt\n",
    "import matplotlib as mpl\n",
    "mpl.rcParams['figure.dpi'] = 150"
   ]
  },
  {
   "cell_type": "code",
   "execution_count": null,
   "metadata": {},
   "outputs": [],
   "source": [
    "import logging\n",
    "import numpy as np\n",
    "import os\n",
    "import cftime, datetime\n",
    "import pickle\n",
    "\n",
    "import watershed_workflow\n",
    "import watershed_workflow.ui\n",
    "import watershed_workflow.sources\n",
    "import watershed_workflow.meteorology\n",
    "import watershed_workflow.io\n",
    "\n",
    "watershed_workflow.ui.setup_logging(1,None)"
   ]
  },
  {
   "cell_type": "code",
   "execution_count": null,
   "metadata": {},
   "outputs": [],
   "source": [
    "out_files_path = './intermediate_files/output_files.pkl'\n",
    "with open(out_files_path, 'rb') as f:\n",
    "    output_filenames = pickle.load(f)\n",
    "display(output_filenames)"
   ]
  },
  {
   "cell_type": "code",
   "execution_count": null,
   "metadata": {},
   "outputs": [],
   "source": [
    "start = \"2010-10-1\"\n",
    "end = \"2011-09-30\"\n",
    "\n",
    "output_filenames['start'] = start\n",
    "output_filenames['end'] = end"
   ]
  },
  {
   "cell_type": "code",
   "execution_count": null,
   "metadata": {},
   "outputs": [],
   "source": [
    "data_dir = './input_data'\n",
    "watershed_workflow.config.setDataDirectory(data_dir)"
   ]
  },
  {
   "cell_type": "code",
   "execution_count": null,
   "metadata": {},
   "outputs": [],
   "source": [
    "name = 'Coweeta'\n",
    "coweeta_shapefile = os.path.join('input_data', 'coweeta_basin.shp')"
   ]
  },
  {
   "cell_type": "code",
   "execution_count": null,
   "metadata": {},
   "outputs": [],
   "source": [
    "# coweeta_shapefile = 'Coweeta/input_data/coweeta_basin.shp'\n",
    "crs = watershed_workflow.crs.default_crs"
   ]
  },
  {
   "cell_type": "markdown",
   "metadata": {},
   "source": [
    "## Load the Watershed"
   ]
  },
  {
   "cell_type": "code",
   "execution_count": null,
   "metadata": {},
   "outputs": [],
   "source": [
    "# intermediate_dir = './intermediate_files/'\n",
    "# with open(f'{intermediate_dir}watershed.pkl', 'rb') as file:\n",
    "#     watershed = pickle.load(file)\n",
    "# watershed.plot()"
   ]
  },
  {
   "cell_type": "code",
   "execution_count": null,
   "metadata": {},
   "outputs": [],
   "source": [
    "coweeta_source = watershed_workflow.sources.ManagerShapefile(coweeta_shapefile, id_name='BASIN_CODE')\n",
    "coweeta = coweeta_source.getShapes(out_crs=crs)\n",
    "\n",
    "watershed = watershed_workflow.SplitHUCs(coweeta)\n",
    "watershed_workflow.split_hucs.simplify(watershed, 60)\n",
    "watershed.plot()"
   ]
  },
  {
   "cell_type": "markdown",
   "metadata": {},
   "source": [
    "## Download the raw AORC raster"
   ]
  },
  {
   "cell_type": "markdown",
   "metadata": {},
   "source": [
    "returned raw data has `dim(nband, ncol, nrow)`"
   ]
  },
  {
   "cell_type": "code",
   "execution_count": null,
   "metadata": {
    "scrolled": true
   },
   "outputs": [],
   "source": [
    "# setting vars = None to download all available variables\n",
    "source = watershed_workflow.sources.ManagerAORC()\n",
    "met_data = source.getDataset(coweeta, start=start, end=end)"
   ]
  },
  {
   "cell_type": "markdown",
   "metadata": {},
   "source": [
    "## Warp the dataset\n",
    "\n",
    "AORC comes back as a non-projected dataset in lat-lon.  We need to warp it to a projected dataset for use in ATS."
   ]
  },
  {
   "cell_type": "code",
   "execution_count": null,
   "metadata": {},
   "outputs": [],
   "source": [
    "met_data_warped = watershed_workflow.warp.dataset(met_data, crs, 'bilinear')"
   ]
  },
  {
   "cell_type": "markdown",
   "metadata": {},
   "source": [
    "## Save to Disk"
   ]
  },
  {
   "cell_type": "markdown",
   "metadata": {},
   "source": [
    "### NetCDF file\n",
    "\n",
    "By default, the raw data is saved to $DATA_DIR/meteorology/aorc/ in a netcdf file.\n"
   ]
  },
  {
   "cell_type": "markdown",
   "metadata": {},
   "source": [
    "### Write to ATS format\n",
    "\n",
    "This will write AORC in a format that ATS can read. E.g., this will partition precipitation into rain and snow, convert vapor pressure to relative humidity, get mean air temperature and so on.\n",
    "\n",
    "- dout has dims of `(ntime, nrow, ncol)` or `(ntime, ny, nx)`"
   ]
  },
  {
   "cell_type": "code",
   "execution_count": null,
   "metadata": {},
   "outputs": [],
   "source": [
    "# convert the data to ATS units, partitioning precip into rain and snow, and computing daily averages\n",
    "met_data_ats = watershed_workflow.meteorology.convertAORCToATS(met_data_warped)\n",
    "\n",
    "start_year = datetime.datetime.strptime(start, \"%Y-%m-%d\").year\n",
    "end_year = datetime.datetime.strptime(end, \"%Y-%m-%d\").year\n",
    "\n",
    "filename = os.path.join('.', 'output_data', f'{name}_AORC-{start_year}-{end_year}.h5')\n",
    "output_filenames['meteorology_transient'] = filename\n",
    "watershed_workflow.io.writeDatasetToHDF5(\n",
    "    filename,\n",
    "    met_data_ats,\n",
    "    met_data_ats.attrs)\n",
    "    "
   ]
  },
  {
   "cell_type": "code",
   "execution_count": null,
   "metadata": {},
   "outputs": [],
   "source": [
    "# plot one pixel as a function of time\n",
    "fig = plt.figure()\n",
    "ax = fig.add_subplot(121)\n",
    "\n",
    "met_data_single_pixel = met_data_ats.isel({'time':slice(0,365),\n",
    "                                           'x' : 5,\n",
    "                                           'y' : 5})\n",
    "\n",
    "met_data_single_pixel['precipitation rain [m s^-1]'].plot(color='b', label='rain')\n",
    "met_data_single_pixel['precipitation snow [m SWE s^-1]'].plot(color='c', label='snow')\n",
    "ax.set_ylabel('precip [m s^-1]')\n",
    "ax.set_title('')\n",
    "ax.legend()\n",
    "\n",
    "ax = fig.add_subplot(122)\n",
    "met_data_single_pixel['incoming shortwave radiation [W m^-2]'].plot(color='r', label='qSW_in')\n",
    "ax.set_ylabel('incoming shortwave radiation [W m^-2]')\n",
    "ax.set_title('')\n",
    "\n",
    "plt.show()"
   ]
  },
  {
   "cell_type": "markdown",
   "metadata": {},
   "source": [
    "## Smooth to form a typical year\n",
    "A \"typical\" year is commonly used in a cyclic, annual steady-state spinup. We form this by averaging all Jan 1s in the record, averaging all Jan 2s, etc."
   ]
  },
  {
   "cell_type": "code",
   "execution_count": null,
   "metadata": {},
   "outputs": [],
   "source": [
    "met_data"
   ]
  },
  {
   "cell_type": "code",
   "execution_count": null,
   "metadata": {},
   "outputs": [],
   "source": [
    "# aggregate to daily data\n",
    "met_data_daily = met_data.resample(time=datetime.timedelta(hours=24)).mean()\n",
    "\n",
    "ndays = met_data_daily['APCP_surface'].shape[0]\n",
    "print('nyears = ', ndays // 365)\n",
    "print('n days leftover = ', ndays % 365)\n",
    "print('note, that leftover day is a leap day')\n"
   ]
  },
  {
   "cell_type": "code",
   "execution_count": null,
   "metadata": {},
   "outputs": [],
   "source": [
    "# cannot compute a typical year for leap year -- need to align days-of-the-year\n",
    "\n",
    "# remove leap day (Dec 31 of leap years)\n",
    "met_data_noleap = watershed_workflow.data.filterLeapDay(met_data_daily)\n",
    "\n",
    "# smooth the raw data\n",
    "met_data_smooth = watershed_workflow.data.smoothTimeSeries(met_data_noleap, method='savgol', window_length=181, polyorder=2)\n",
    "\n",
    "# then compute a \"typical\" year\n",
    "met_data_typical = watershed_workflow.data.computeAverageYear(met_data_smooth, 'time', 2010, 2)\n",
    "\n",
    "# then reproject\n",
    "met_data_typical_warped = watershed_workflow.warp.dataset(met_data_typical, crs, 'bilinear')\n",
    "\n",
    "# and lastly convert to ATS\n",
    "met_data_typical_ats = watershed_workflow.meteorology.convertAORCToATS(met_data_typical_warped)"
   ]
  },
  {
   "cell_type": "code",
   "execution_count": null,
   "metadata": {},
   "outputs": [],
   "source": [
    "# plot one pixel as a function of time\n",
    "fig = plt.figure()\n",
    "ax = fig.add_subplot(121)\n",
    "\n",
    "met_data_single_pixel = met_data_typical_ats.isel({'time':slice(0,365),\n",
    "                                           'x' : 5,\n",
    "                                           'y' : 5})\n",
    "\n",
    "met_data_single_pixel['precipitation rain [m s^-1]'].plot(color='b', label='rain')\n",
    "met_data_single_pixel['precipitation snow [m SWE s^-1]'].plot(color='c', label='snow')\n",
    "ax.set_ylabel('precip [m s^-1]')\n",
    "ax.set_title('')\n",
    "ax.legend()\n",
    "\n",
    "ax = fig.add_subplot(122)\n",
    "met_data_single_pixel['incoming shortwave radiation [W m^-2]'].plot(color='r', label='qSW_in')\n",
    "ax.set_ylabel('incoming shortwave radiation [W m^-2]')\n",
    "ax.set_title('')\n",
    "\n",
    "plt.show()"
   ]
  },
  {
   "cell_type": "code",
   "execution_count": null,
   "metadata": {},
   "outputs": [],
   "source": [
    "# write cyclic steadystate data to disk\n",
    "filename = os.path.join('.', 'output_data', f'{name}_AORC-CyclicSteadystate.h5')\n",
    "output_filenames['meteorology_cyclic_steadystate'] = filename\n",
    "watershed_workflow.io.writeDatasetToHDF5(\n",
    "    filename,\n",
    "    met_data_typical_ats,\n",
    "    met_data_typical_ats.attrs)\n"
   ]
  },
  {
   "cell_type": "code",
   "execution_count": null,
   "metadata": {},
   "outputs": [],
   "source": [
    "precip_mean = (met_data_ats['precipitation rain [m s^-1]'].data + met_data_ats['precipitation snow [m SWE s^-1]'].data).mean()\n",
    "logging.info(f'Mean precip value = {precip_mean}')"
   ]
  },
  {
   "cell_type": "code",
   "execution_count": null,
   "metadata": {},
   "outputs": [],
   "source": [
    "output_filenames['mean_precip [m s^-1]'] = float(precip_mean)"
   ]
  },
  {
   "cell_type": "code",
   "execution_count": null,
   "metadata": {},
   "outputs": [],
   "source": [
    "display(output_filenames)\n",
    "with open(out_files_path, 'wb') as f:\n",
    "    pickle.dump(output_filenames, f)"
   ]
  },
  {
   "cell_type": "markdown",
   "metadata": {},
   "source": [
    "### Other choices for Precip\n",
    "\n",
    "Often smoothing precip like that is a bad idea -- you now have every day misting with low intensity rain which can result in a ton of interception\n",
    "and canopy evaporation and no transpiration.  Another approach is to just take the median total rainfall year and repeat that year multiple times."
   ]
  },
  {
   "cell_type": "code",
   "execution_count": null,
   "metadata": {},
   "outputs": [],
   "source": [
    "met_data_noleap['APCP_surface'].shape[0] % 365"
   ]
  },
  {
   "cell_type": "code",
   "execution_count": null,
   "metadata": {},
   "outputs": [],
   "source": [
    "precip_raw = met_data_noleap['APCP_surface']\n",
    "shape_xy = precip_raw.shape[1:]\n",
    "\n",
    "precip_raw = precip_raw.values.reshape((-1, 365,)+shape_xy)\n",
    "annual_precip_raw = precip_raw.sum(axis=(1,2,3))\n",
    "print(annual_precip_raw)\n"
   ]
  },
  {
   "cell_type": "code",
   "execution_count": null,
   "metadata": {},
   "outputs": [],
   "source": [
    "# find the median...\n",
    "# note -- don't use np.median here... for even number of years it will not appear.  Instead, sort and take the halfway point\n",
    "median_i = sorted(((i,v) for (i,v) in enumerate(annual_precip_raw)), key=lambda x : x[1])[len(annual_precip_raw)//2][0]\n",
    "\n",
    "spatially_averaged_typical_year_precip = precip_raw[median_i]\n",
    "spatially_averaged_typical_year_precip.shape\n"
   ]
  },
  {
   "cell_type": "code",
   "execution_count": null,
   "metadata": {},
   "outputs": [],
   "source": [
    "# stuff the median year into the typical data, tiled for number of years being generated (here 2)\n",
    "typical_precip_raw = np.tile(precip_raw[median_i], (2,1,1))\n",
    "met_data_typical['APCP_surface'] = (['time', 'latitude', 'longitude'], typical_precip_raw)"
   ]
  },
  {
   "cell_type": "code",
   "execution_count": null,
   "metadata": {},
   "outputs": [],
   "source": [
    "# then reproject\n",
    "met_data_typical_warped = watershed_workflow.warp.dataset(met_data_typical, crs, 'bilinear')\n",
    "\n",
    "# convert that to ATS\n",
    "met_data_typical_ats = watershed_workflow.meteorology.convertAORCToATS(met_data_typical_warped)\n"
   ]
  },
  {
   "cell_type": "code",
   "execution_count": null,
   "metadata": {},
   "outputs": [],
   "source": [
    "# plot one pixel as a function of time\n",
    "fig = plt.figure()\n",
    "ax = fig.add_subplot(121)\n",
    "\n",
    "met_data_single_pixel = met_data_typical_ats.isel({'time':slice(0,365),\n",
    "                                           'x' : 5,\n",
    "                                           'y' : 5})\n",
    "\n",
    "met_data_single_pixel['precipitation rain [m s^-1]'].plot(color='b', label='rain')\n",
    "met_data_single_pixel['precipitation snow [m SWE s^-1]'].plot(color='c', label='snow')\n",
    "ax.set_ylabel('precip [m s^-1]')\n",
    "ax.set_title('')\n",
    "ax.legend()\n",
    "\n",
    "ax = fig.add_subplot(122)\n",
    "met_data_single_pixel['incoming shortwave radiation [W m^-2]'].plot(color='r', label='qSW_in')\n",
    "ax.set_ylabel('incoming shortwave radiation [W m^-2]')\n",
    "ax.set_title('')\n",
    "\n",
    "plt.show()"
   ]
  },
  {
   "cell_type": "code",
   "execution_count": null,
   "metadata": {},
   "outputs": [],
   "source": []
  }
 ],
 "metadata": {
  "kernelspec": {
   "display_name": "Python3 (watershed_workflow)",
   "language": "python",
   "name": "watershed_workflow"
  },
  "language_info": {
   "codemirror_mode": {
    "name": "ipython",
    "version": 3
   },
   "file_extension": ".py",
   "mimetype": "text/x-python",
   "name": "python",
   "nbconvert_exporter": "python",
   "pygments_lexer": "ipython3",
   "version": "3.12.11"
  },
  "toc-autonumbering": true
 },
 "nbformat": 4,
 "nbformat_minor": 4
}
