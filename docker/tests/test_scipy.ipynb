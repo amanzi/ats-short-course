{
 "cells": [
  {
   "cell_type": "markdown",
   "id": "6c302338-6e72-46ac-bb7f-4f64118a48db",
   "metadata": {},
   "source": [
    "# This notebook tests your scipy install."
   ]
  },
  {
   "cell_type": "code",
   "execution_count": 2,
   "id": "20915d55-4c4a-4051-aeab-bfea45519eed",
   "metadata": {},
   "outputs": [],
   "source": [
    "import numpy as np\n",
    "from scipy import optimize\n",
    "\n"
   ]
  },
  {
   "cell_type": "code",
   "execution_count": 3,
   "id": "e2a6972c-f5d3-4192-8008-ba567296697b",
   "metadata": {},
   "outputs": [],
   "source": [
    "# Define a simple quadratic function: f(x) = (x - 3)^2\n",
    "def func(x):\n",
    "    return (x - 3)**2\n",
    "\n",
    "# Use SciPy's minimize to find the minimum\n",
    "result = optimize.minimize(func, x0=0)  # start at x=0\n",
    "\n"
   ]
  },
  {
   "cell_type": "code",
   "execution_count": 4,
   "id": "9ce3cf32-d9c8-4332-96d8-48dd29fb88bb",
   "metadata": {},
   "outputs": [
    {
     "name": "stdout",
     "output_type": "stream",
     "text": [
      "Optimization result:\n",
      "  message: Optimization terminated successfully.\n",
      "  success: True\n",
      "   status: 0\n",
      "      fun: 2.5388963550532293e-16\n",
      "        x: [ 3.000e+00]\n",
      "      nit: 2\n",
      "      jac: [-1.697e-08]\n",
      " hess_inv: [[ 5.000e-01]]\n",
      "     nfev: 6\n",
      "     njev: 3\n",
      "✅ SciPy optimization works correctly!\n",
      "Integration result: 2.0 (error estimate: 2.220446049250313e-14)\n"
     ]
    }
   ],
   "source": [
    "# Print results\n",
    "print(\"Optimization result:\")\n",
    "print(result)\n",
    "\n",
    "# Verify the answer\n",
    "if np.isclose(result.x, 3, atol=1e-6):\n",
    "    print(\"✅ SciPy optimization works correctly!\")\n",
    "else:\n",
    "    print(\"⚠️ Unexpected result.\")\n",
    "\n",
    "# %%\n",
    "# Bonus: quick SciPy integration test\n",
    "from scipy import integrate\n",
    "\n",
    "# Integrate sin(x) from 0 to pi\n",
    "area, error = integrate.quad(np.sin, 0, np.pi)\n",
    "print(f\"Integration result: {area} (error estimate: {error})\")"
   ]
  },
  {
   "cell_type": "code",
   "execution_count": null,
   "id": "8067bcc2-6e76-4eb5-b575-a30b2fcda456",
   "metadata": {},
   "outputs": [],
   "source": []
  }
 ],
 "metadata": {
  "kernelspec": {
   "display_name": "Python 3 (ipykernel)",
   "language": "python",
   "name": "python3"
  },
  "language_info": {
   "codemirror_mode": {
    "name": "ipython",
    "version": 3
   },
   "file_extension": ".py",
   "mimetype": "text/x-python",
   "name": "python",
   "nbconvert_exporter": "python",
   "pygments_lexer": "ipython3",
   "version": "3.12.11"
  }
 },
 "nbformat": 4,
 "nbformat_minor": 5
}
