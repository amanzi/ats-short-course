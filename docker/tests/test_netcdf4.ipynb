{
 "cells": [
  {
   "cell_type": "markdown",
   "id": "851b69a6-d2b7-49f7-8fe9-a117d2bc1463",
   "metadata": {},
   "source": [
    "# This notebook tests your netCDF4 install"
   ]
  },
  {
   "cell_type": "code",
   "execution_count": null,
   "id": "5aab739f-4af2-47b6-ac94-81037a951807",
   "metadata": {},
   "outputs": [],
   "source": [
    "import numpy as np\n",
    "from netCDF4 import Dataset\n",
    "import os\n"
   ]
  },
  {
   "cell_type": "code",
   "execution_count": null,
   "id": "9089329d-00cd-427e-81a8-0b748035adc0",
   "metadata": {},
   "outputs": [],
   "source": [
    "# Test file name\n",
    "filename = \"test_netCDF4.nc\"\n",
    "\n",
    "# Create some test data\n",
    "data = np.arange(10, dtype=np.float32)\n",
    "\n",
    "# Write data to NetCDF\n",
    "with Dataset(filename, \"w\", format=\"NETCDF4\") as ds:\n",
    "    # Create a dimension\n",
    "    ds.createDimension(\"x\", len(data))\n",
    "    # Create a variable\n",
    "    var = ds.createVariable(\"my_var\", \"f4\", (\"x\",))\n",
    "    var[:] = data\n",
    "    # Add an attribute\n",
    "    var.units = \"arbitrary\"\n",
    "print(f\"✅ Wrote dataset to {filename}\")"
   ]
  },
  {
   "cell_type": "code",
   "execution_count": null,
   "id": "922de0a1-f683-4c95-adc7-17db46c5b8e5",
   "metadata": {},
   "outputs": [],
   "source": [
    "# Read data back\n",
    "with Dataset(filename, \"r\") as ds:\n",
    "    read_data = ds.variables[\"my_var\"][:]\n",
    "    read_units = ds.variables[\"my_var\"].units\n",
    "print(f\"✅ Read dataset: {read_data}\")\n",
    "print(f\"✅ Units attribute: {read_units}\")"
   ]
  },
  {
   "cell_type": "code",
   "execution_count": null,
   "id": "5ceef380-87af-44c4-9bdd-2f2b9f6b51da",
   "metadata": {},
   "outputs": [],
   "source": [
    "# Verify correctness\n",
    "if np.array_equal(data, read_data):\n",
    "    print(\"🎉 netCDF4 read/write test PASSED!\")\n",
    "else:\n",
    "    print(\"⚠️ netCDF4 test FAILED.\")\n",
    "\n",
    "# Clean up\n",
    "os.remove(filename)\n",
    "print(\"🧹 Temporary file removed.\")"
   ]
  },
  {
   "cell_type": "code",
   "execution_count": null,
   "id": "00e17e49-a486-41b7-a844-cd7fac621b1e",
   "metadata": {},
   "outputs": [],
   "source": []
  }
 ],
 "metadata": {
  "kernelspec": {
   "display_name": "Python 3 (ipykernel)",
   "language": "python",
   "name": "python3"
  },
  "language_info": {
   "codemirror_mode": {
    "name": "ipython",
    "version": 3
   },
   "file_extension": ".py",
   "mimetype": "text/x-python",
   "name": "python",
   "nbconvert_exporter": "python",
   "pygments_lexer": "ipython3",
   "version": "3.12.11"
  }
 },
 "nbformat": 4,
 "nbformat_minor": 5
}
