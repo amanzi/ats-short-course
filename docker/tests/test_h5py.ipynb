{
 "cells": [
  {
   "cell_type": "markdown",
   "id": "64caaa9f-43ad-4364-bae1-67b45ffd9411",
   "metadata": {},
   "source": [
    "# This notebook tests your h5py install."
   ]
  },
  {
   "cell_type": "code",
   "execution_count": 1,
   "id": "ab98478e-4b18-44bc-bc2d-879b494a87ca",
   "metadata": {},
   "outputs": [],
   "source": [
    "import numpy as np\n",
    "import h5py\n",
    "import os\n",
    "\n"
   ]
  },
  {
   "cell_type": "code",
   "execution_count": 2,
   "id": "db46fdaf-5829-4467-a28b-be4d133a71d1",
   "metadata": {},
   "outputs": [
    {
     "name": "stdout",
     "output_type": "stream",
     "text": [
      "✅ Wrote dataset to test_h5py.h5\n"
     ]
    }
   ],
   "source": [
    "# Test file name\n",
    "filename = \"test_h5py.h5\"\n",
    "\n",
    "# Create some test data\n",
    "data = np.arange(10, dtype=np.float64)\n",
    "\n",
    "# Write data to HDF5\n",
    "with h5py.File(filename, \"w\") as f:\n",
    "    f.create_dataset(\"my_dataset\", data=data)\n",
    "print(f\"✅ Wrote dataset to {filename}\")\n",
    "\n"
   ]
  },
  {
   "cell_type": "code",
   "execution_count": 3,
   "id": "fbb29647-86d6-4c58-9545-0343f04cadb1",
   "metadata": {},
   "outputs": [
    {
     "name": "stdout",
     "output_type": "stream",
     "text": [
      "✅ Read dataset: [0. 1. 2. 3. 4. 5. 6. 7. 8. 9.]\n",
      "🎉 h5py read/write test PASSED!\n",
      "🧹 Temporary file removed.\n"
     ]
    }
   ],
   "source": [
    "# Read data back\n",
    "with h5py.File(filename, \"r\") as f:\n",
    "    read_data = f[\"my_dataset\"][:]\n",
    "print(f\"✅ Read dataset: {read_data}\")\n",
    "\n",
    "# Verify correctness\n",
    "if np.array_equal(data, read_data):\n",
    "    print(\"🎉 h5py read/write test PASSED!\")\n",
    "else:\n",
    "    print(\"⚠️ h5py test FAILED.\")\n",
    "\n",
    "# Clean up\n",
    "os.remove(filename)\n",
    "print(\"🧹 Temporary file removed.\")"
   ]
  },
  {
   "cell_type": "code",
   "execution_count": null,
   "id": "7ac911ad-4064-4c20-9e22-a91af90f16cc",
   "metadata": {},
   "outputs": [],
   "source": []
  }
 ],
 "metadata": {
  "kernelspec": {
   "display_name": "Python 3 (ipykernel)",
   "language": "python",
   "name": "python3"
  },
  "language_info": {
   "codemirror_mode": {
    "name": "ipython",
    "version": 3
   },
   "file_extension": ".py",
   "mimetype": "text/x-python",
   "name": "python",
   "nbconvert_exporter": "python",
   "pygments_lexer": "ipython3",
   "version": "3.12.11"
  }
 },
 "nbformat": 4,
 "nbformat_minor": 5
}
