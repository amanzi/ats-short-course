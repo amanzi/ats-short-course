{
 "cells": [
  {
   "cell_type": "markdown",
   "id": "09bd2a6f-c809-4426-a974-5f8669307015",
   "metadata": {},
   "source": [
    "# Session 4: Reactive Transport\n",
    "Sergi Molins, LBNL | September 9, 2025 | Knoxville, TN"
   ]
  },
  {
   "cell_type": "markdown",
   "id": "a800c1fa-af92-4f04-8c2e-f1288b3df965",
   "metadata": {},
   "source": [
    "* This notebook presents a series of exercises that demonstrate how to set up and run reactive transport simulations for integrated hydrology problems with ATS.\n",
    "* The problems build on the hillslope transport problem presented in the previous session.\n",
    "* This notebook is mostly intended to be used as a reference to follow the exercises along with the input files provided."
   ]
  },
  {
   "cell_type": "markdown",
   "id": "c85445ba-5a52-4571-90bf-4ba730e8a327",
   "metadata": {},
   "source": [
    "### Quick links to content:\n",
    "\n",
    "* [Exercise 1: First-order reaction in the hillslope transport problem](#Exercise-1:-First-order-reaction-in-the-hillslope-transport-problem) \n",
    "* [Exercise 2: Reduction of nitrate from fertilizer application](#Exercise-2:-Reduction-of-nitrate-from-fertilizer-application) \n",
    "    * [Exercise 2a: Develop and test conservative transport using the Alquimia PK (PFLOTRAN or CrunchFlow)](#Exercise-2:Develop-and-test-conservative-transport-using-the-Alquimia-PK-(PFLOTRAN-or-CrunchFlow)) \n",
    "    * [Exercise 2b: Develop and test the geochemical problem in PFLOTRAN or CrunchFlow](#Exercise-2b:-Develop-and-test-the-geochemical-problem-in-PFLOTRAN-or-CrunchFlow) \n",
    "    * [Exercise 2c: Put everything together](#Exercise-2c:-Put-everything-together) "
   ]
  },
  {
   "cell_type": "markdown",
   "id": "b6f655f8-85fc-4296-9229-8603736fb7ed",
   "metadata": {},
   "source": [
    "### Begin by changing to the `04_reactive_transport` directory\n",
    "\n",
    "```sh\n",
    "(base) ats_sc_user@e2614fb043da:~/work/ats-short-course/cd 04_reactive_transport\n",
    "```"
   ]
  },
  {
   "cell_type": "markdown",
   "id": "053b4a43-5127-4027-a88f-e5b60f7831e1",
   "metadata": {},
   "source": [
    "## Exercise 1: First-order reaction in the hillslope transport problem"
   ]
  },
  {
   "cell_type": "markdown",
   "id": "3c0bbf47-9a64-47b7-a42e-1d16d7d83d3e",
   "metadata": {},
   "source": [
    "### This exercise adds a simple first-order reaction to the solute tracer transport problem of the previous session. \n",
    "\n",
    "**What we will learn:**\n",
    "\n",
    "* To add sources to the Transport PK to represent simple reactions\n",
    "* To use evaluator functions to provide a function for the source\n",
    "* To decide (conceptually) where reactions take place\n",
    "* To evaluate the need for full multicomponent geochemistry\n",
    "\n",
    "**Files we will use:**\n",
    "\n",
    "* Input file: first-order_hillslope_tracer.xml\n",
    "* Mesh file: hillslope_mesh.exo\n",
    "* Flow restart file: last checkpoint from running 01_integrated_flow/hydrology_hillslope_spinup_open.xml"
   ]
  },
  {
   "cell_type": "markdown",
   "id": "6b9aca6c-245c-4fe0-acf8-df16924ade91",
   "metadata": {},
   "source": [
    "### What is added and/or modified with respect to the transport problem?"
   ]
  },
  {
   "cell_type": "markdown",
   "id": "6732d3ba-20be-4dce-ac82-0660f9d9a72c",
   "metadata": {},
   "source": [
    "**Transport source in the subsurface**\n",
    "\n",
    "```xml\n",
    "  <ParameterList name=\"PKs\">\n",
    "    ...\n",
    "\n",
    "    <ParameterList name=\"subsurface transport\">\n",
    "      ...\n",
    "\n",
    "      <Parameter name=\"source term\" type=\"bool\" value=\"true\"/>\n",
    "      <Parameter name=\"source key suffix\" type=\"string\" value=\"tracer2_rate\"/>\n",
    "```"
   ]
  },
  {
   "cell_type": "markdown",
   "id": "87429369-a889-4748-b58b-ac449e616bbe",
   "metadata": {},
   "source": [
    "**Evaluator for source (i.e. reaction rate)**\n",
    "\n",
    "```xml\n",
    "  <ParameterList name=\"state\">\n",
    "    ...\n",
    "\n",
    "    <ParameterList name=\"evaluators\" type=\"ParameterList\">\n",
    "      ...\n",
    "\n",
    "      <ParameterList name=\"tracer2_rate\" type=\"ParameterList\">\n",
    "        <Parameter name=\"evaluator type\" type=\"string\" value=\"multiplicative evaluator\"/>\n",
    "        <Parameter name=\"coefficient\" type=\"double\" value=\"-1.0e-3\"/>\n",
    "        <Parameter name=\"dependencies\" type=\"Array(string)\" value=\"{mole_fraction}\"/>\n",
    "      </ParameterList>\n",
    "```"
   ]
  },
  {
   "cell_type": "markdown",
   "id": "942a369a-4916-4e05-b11a-8c9c92285e1c",
   "metadata": {},
   "source": [
    "**Some notes**\n",
    "\n",
    "* We have also removed ``Tracer1`` from the input with respect to the transport_tracers.xml input file (see file transport_tracer.xml) because the code does not currently support setting up [Generic Evaluators](https://amanzi.github.io/ats/stable/input_spec/state/generic.html) for multicomponent fields. (Please request the feature if you need it with a use case to go along with it!)\n",
    "* Before running remember to update the location of the spinup file you generated in the input file and use the same number of cores as you did for the spinup.\n",
    "* This should take up to 10 minutes to run using 1 or 2 cores in most laptops.\n"
   ]
  },
  {
   "cell_type": "markdown",
   "id": "97687e6c-7251-49b9-a16b-c2a19f5b0d0f",
   "metadata": {
    "jp-MarkdownHeadingCollapsed": true
   },
   "source": [
    "### Let's run the simulation:\n",
    "\n",
    "```sh\n",
    "(base) ats_sc_user@e2614fb043da:~/work/ats-short-course/04_reactive_transport$ mkdir run_first_order\n",
    "\n",
    "(base) ats_sc_user@e2614fb043da:~/work/ats-short-course/04_reactive_transport$ cd run_first_order\n",
    "\n",
    "(base) ats_sc_user@e2614fb043da:~/work/ats-short-course/04_reactive_transport/run_first_order$ nohup mpirun -n 2 ats --xml_file=../first-order_tracer.xml > log &\n",
    "\n",
    "(base) ats_sc_user@e2614fb043da:~/work/ats-short-course/04_reactive_transport/run_first_order$ tail -f log | grep -e Cycle\n",
    "```"
   ]
  },
  {
   "cell_type": "markdown",
   "id": "5fa162e2-c873-4d85-a2dc-ae9cb9ad9669",
   "metadata": {},
   "source": [
    "### Let's compare with the conservative simulations"
   ]
  },
  {
   "cell_type": "markdown",
   "id": "227e0696-8728-4361-afc2-b7b6272cb896",
   "metadata": {},
   "source": [
    "**VisIt session**"
   ]
  },
  {
   "cell_type": "markdown",
   "id": "99bde401-37a5-4345-a018-d56a9e9512ad",
   "metadata": {},
   "source": [
    "### Questions:\n",
    "\n",
    "* What is the impact of the reactions in the observed surface concentrations in the retention pond or at the toe slope?\n",
    "* How would you add this reaction in the surface water? Is it possible?\n",
    "* What if you have different units for the rate constant? \n"
   ]
  },
  {
   "cell_type": "markdown",
   "id": "ba490d18-9a34-48ec-b704-1d7928e10385",
   "metadata": {},
   "source": [
    "## Exercise 2: Reduction of nitrate from fertilizer application"
   ]
  },
  {
   "cell_type": "markdown",
   "id": "6229ede4-137e-4098-89db-b4776a9cae08",
   "metadata": {},
   "source": [
    "This exercise adds a multicomponent geochemical problem to the transport problem of the previous session. The objective is to show the use of different water compositions (geochemical conditions), one for the irrigation water, one for the rainwater and one for the initial water in the subsurface. The irrigation water contains fertilizer with elevated nitrate concentrations that will be reduced in the subsurface where a source of organic carbon is available for oxidation. \n",
    "\n",
    "We are building the full problem step by step to ensure that each component of the problem functions separately before assembling the full simulation (this save a lot of grief later on):\n",
    "\n",
    "1. Exercise 2a: Ensure that we can assign the different geochemical conditions to water sources and initial/boundary conditions to the flow and transport problem when we add the Chemistry PKs to the problem.\n",
    "2. Exercise 2b: Ensure that the geochemical conditions can be solved by the geochemical engines and represent the waters in our conceptual model.\n",
    "3. Exercise 2c: Assemble the overall problem and resolve potential issues that emerge at this stage. "
   ]
  },
  {
   "cell_type": "markdown",
   "id": "fba2da64-f62b-4392-b22a-1946319d5dd9",
   "metadata": {},
   "source": [
    "### Exercise 2a: Develop and test conservative transport using the Alquimia PK (PFLOTRAN or CrunchFlow)"
   ]
  },
  {
   "cell_type": "markdown",
   "id": "5c2ad411-393b-4bef-9145-cff0424f6670",
   "metadata": {},
   "source": [
    "When setting up an Integrated Reaction PK, it is strongly recommended that a conservative transport simulation is performed before where no reactions are included but where the geochemical input files are used. This is accomplished by not including reactions in the engine's input file. This has two main benefits:\n",
    "\n",
    "* It makes it easy to check that geochemical conditions are passed correctly (as intended) between the engine and ATS.\n",
    "* It provides an understanding of the fate of tracers added to different sources.\n",
    "\n",
    " This exercise replaces the solute tracer used in the transport problem in the previous session with two conservative tracers, tracer 1 and 2, that are assigned to the irrigation water and the rain water, respectively. It also sets up the appropriate initial and boundary conditions as needed.\n",
    "\n",
    "**What we will learn:**\n",
    "\n",
    "* To specify an integrated flow and reactive transport PK tree.\n",
    "* To specify a geochemical engine and input file in the Chemistry PKs (of alquimia type).\n",
    "* To specify initial conditions that use geochemical conditions from an engine.\n",
    "* To specify different water sources for flow where we can apply different transport sources.\n",
    "* To specify source terms for transport that use geochemical conditions from an engine.\n",
    "\n",
    "**Files we will use:**\n",
    "\n",
    "* Input files: transport_hillslope_pflotran.xml or transport_hillslope_crunch.xml\n",
    "* PFLOTRAN input file: pflotran_dir/tracer-pflotran.in\n",
    "* CrunchFlow input file: crunch_dir/tracer-crunch.in\n",
    "* Mesh file: \n",
    "* Flow restart file:"
   ]
  },
  {
   "cell_type": "markdown",
   "id": "21156d06-1fe2-4c36-84d7-ed9f39f4c25d",
   "metadata": {},
   "source": [
    "### What is added and/or modified with respect to the transport problem?"
   ]
  },
  {
   "cell_type": "markdown",
   "id": "e0afe970-72fb-4524-b4e3-88779d378450",
   "metadata": {},
   "source": [
    "**Integrated flow and reactive transport PK tree**\n",
    "\n",
    "```xml\n",
    "  <ParameterList name=\"cycle driver\">\n",
    "    ...\n",
    "      \n",
    "    <ParameterList name=\"PK tree\">\n",
    "      <ParameterList name=\"flow and transport\">\n",
    "        <Parameter name=\"PK type\" type=\"string\" value=\"coupled flow and transport\"/>\n",
    "        <ParameterList name=\"flow_coupler\">\n",
    "          <Parameter name=\"PK type\" type=\"string\" value=\"coupled water\"/>\n",
    "          <ParameterList name=\"subsurface flow\">\n",
    "            <Parameter name=\"PK type\" type=\"string\" value=\"richards flow\"/>\n",
    "          </ParameterList>\n",
    "          <ParameterList name=\"surface flow\">\n",
    "            <Parameter name=\"PK type\" type=\"string\" value=\"overland flow, pressure basis\"/>\n",
    "          </ParameterList>\n",
    "        </ParameterList>\n",
    "\n",
    "        <ParameterList name=\"reactive transport\" type=\"ParameterList\">\n",
    "          <Parameter name=\"PK type\" type=\"string\" value=\"surface subsurface reactive transport\" />\n",
    "          <ParameterList name=\"chemistry coupler\" type=\"ParameterList\">\n",
    "            <Parameter name=\"PK type\" type=\"string\" value=\"weak MPC\" />\n",
    "              \n",
    "            <ParameterList name=\"chemistry surface\" type=\"ParameterList\">\n",
    "              <Parameter name=\"PK type\" type=\"string\" value=\"chemistry alquimia\" />\n",
    "            </ParameterList>\n",
    "            <ParameterList name=\"chemistry subsurface\" type=\"ParameterList\">\n",
    "              <Parameter name=\"PK type\" type=\"string\" value=\"chemistry alquimia\" />\n",
    "            </ParameterList>\n",
    "          </ParameterList>\n",
    "\n",
    "          <ParameterList name=\"transport_coupler\">\n",
    "            <Parameter name=\"PK type\" type=\"string\" value=\"surface subsurface transport\"/>\n",
    "            <ParameterList name=\"subsurface transport\">\n",
    "              <Parameter name=\"PK type\" type=\"string\" value=\"transport ATS\"/>\n",
    "            </ParameterList>\n",
    "            <ParameterList name=\"surface transport\">\n",
    "              <Parameter name=\"PK type\" type=\"string\" value=\"transport ATS\"/>\n",
    "            </ParameterList>\n",
    "          </ParameterList>\n",
    "\n",
    "        </ParameterList>\n",
    "      </ParameterList>\n",
    "    </ParameterList>\n",
    "```"
   ]
  },
  {
   "cell_type": "markdown",
   "id": "369d1e57-f729-4b18-8494-366feb2124a1",
   "metadata": {},
   "source": [
    "**Integrated Flow and Reactive Transport PK**\n",
    "```xml\n",
    "  <ParameterList name=\"PKs\" type=\"ParameterList\">\n",
    "    ...\n",
    "      \n",
    "    <ParameterList name=\"flow and transport\">\n",
    "      <Parameter name=\"PK type\" type=\"string\" value=\"coupled flow and transport\"/>\n",
    "      <Parameter name=\"PKs order\" type=\"Array(string)\" value=\"{flow_coupler, reactive transport}\"/>\n",
    "      <Parameter name=\"subcycle\" type=\"Array(int)\" value=\"{0, 1}\"/>\n",
    "    </ParameterList>\n",
    "```"
   ]
  },
  {
   "cell_type": "markdown",
   "id": "238e1e04-1f93-467f-8070-abd83348ea62",
   "metadata": {},
   "source": [
    "**Integrated Reactive Transport PK**\n",
    "```xml\n",
    "  <ParameterList name=\"PKs\" type=\"ParameterList\">\n",
    "    ...\n",
    "      \n",
    "    <ParameterList name=\"reactive transport\" type=\"ParameterList\">\n",
    "      <Parameter name=\"PK type\" type=\"string\" value=\"surface subsurface reactive transport\"/>\n",
    "      <Parameter name=\"PK name\" type=\"string\" value=\"reactive transport\"/>\n",
    "      <Parameter name=\"PKs order\" type=\"Array(string)\" value=\"{chemistry coupler, transport_coupler}\"/>\n",
    "      <Parameter name=\"transport index\" type=\"int\" value=\"1\"/>\n",
    "    </ParameterList>\n",
    "```"
   ]
  },
  {
   "cell_type": "markdown",
   "id": "93bad0b8-697c-46a6-adea-b3360827f356",
   "metadata": {},
   "source": [
    "**Integrated Chemistry PK**\n",
    "```xml\n",
    "  <ParameterList name=\"PKs\" type=\"ParameterList\">\n",
    "    ...\n",
    "      \n",
    "    <ParameterList name=\"chemistry coupler\" type=\"ParameterList\">\n",
    "      <Parameter name=\"PK type\" type=\"string\" value=\"weak MPC\"/>\n",
    "      <Parameter name=\"PK name\" type=\"string\" value=\"coupled chemistry\"/>\n",
    "      <Parameter name=\"PKs order\" type=\"Array(string)\" value=\"{chemistry subsurface, chemistry surface}\"/>\n",
    "    </ParameterList>\n",
    "```"
   ]
  },
  {
   "cell_type": "markdown",
   "id": "5ec16d61-8b35-403e-8bb8-7a44468bd7ea",
   "metadata": {},
   "source": [
    "**Chemistry PK (surface)**\n",
    "\n",
    "```xml\n",
    "  <ParameterList name=\"PKs\" type=\"ParameterList\">\n",
    "    ...\n",
    "\n",
    "    <ParameterList name=\"chemistry surface\" type=\"ParameterList\">\n",
    "      <Parameter name=\"PK type\" type=\"string\" value=\"chemistry alquimia\"/>\n",
    "      <Parameter name=\"engine\" type=\"string\" value=\"CrunchFlow\"/>\n",
    "      <Parameter name=\"engine input file\" type=\"string\" value=\"../crunch_dir/tracer-crunch.in\"/>\n",
    "      <Parameter name=\"domain name\" type=\"string\" value=\"surface\"/>\n",
    "      <Parameter name=\"saturation liquid key\" type=\"string\" value=\"surface-ponded_depth\"/>\n",
    "      <Parameter name=\"auxiliary data\" type=\"Array(string)\" value=\"{pH}\"/>\n",
    "      <Parameter name=\"debug cells\" type=\"Array(int)\" value=\"{0}\"/>\n",
    "      <ParameterList name=\"initial conditions\" type=\"ParameterList\">\n",
    "        <ParameterList name=\"geochemical conditions\" type=\"ParameterList\">\n",
    "          <ParameterList name=\"initial\" type=\"ParameterList\">\n",
    "            <Parameter name=\"regions\" type=\"Array(string)\" value=\"{surface domain}\"/>\n",
    "          </ParameterList>\n",
    "        </ParameterList>\n",
    "      </ParameterList>\n",
    "```"
   ]
  },
  {
   "cell_type": "markdown",
   "id": "1c6e431c-8842-4b6f-a0fb-537bc24f531a",
   "metadata": {},
   "source": [
    "**Some notes:**\n",
    "\n",
    "* Do the same for subsurface chemistry paying attention to the \"domain name\", \"regions\" and \"saturation liquid key\" parameters.\n",
    "* The name of the PLOTRAN engine is \"PFloTran\". This may be updated in future releases. "
   ]
  },
  {
   "cell_type": "markdown",
   "id": "38dc8d43-b04f-48d6-8f8a-bd543e695773",
   "metadata": {},
   "source": [
    "### Let's dive into the geochemical conditions\n",
    "\n",
    "**Chemistry initial conditions (subsurface)**\n",
    "\n",
    "```xml\n",
    "    <ParameterList name=\"chemistry subsurface\" type=\"ParameterList\">\n",
    "      ...\n",
    "\n",
    "      <ParameterList name=\"initial conditions\" type=\"ParameterList\">\n",
    "        <ParameterList name=\"geochemical conditions\" type=\"ParameterList\">\n",
    "          <ParameterList name=\"initial\" type=\"ParameterList\">\n",
    "            <Parameter name=\"regions\" type=\"Array(string)\" value=\"{computational domain}\"/>\n",
    "          </ParameterList>\n",
    "        </ParameterList>\n",
    "      </ParameterList>\n",
    "```"
   ]
  },
  {
   "cell_type": "markdown",
   "id": "569e9a8c-c980-410e-9e0a-571e87940cb6",
   "metadata": {},
   "source": [
    "**Geochemical condition in engine input file (PFLOTRAN)**"
   ]
  },
  {
   "cell_type": "raw",
   "id": "fc324351-7002-4c6f-a4f2-a2bd369ed83a",
   "metadata": {},
   "source": [
    "CONSTRAINT initial\n",
    "  CONCENTRATIONS\n",
    "    tracer1  1.0e-20    T\n",
    "    tracer2  1.0e-20    T\n",
    "  /\n",
    "END\n",
    "\n",
    "CONSTRAINT rainfall\n",
    "  CONCENTRATIONS\n",
    "    tracer1  1.e-20      T\n",
    "    tracer2  1      T\n",
    "  /\n",
    "END\n",
    "\n",
    "CONSTRAINT fertilizer\n",
    "  CONCENTRATIONS\n",
    "    tracer1  1      T\n",
    "    tracer2  1.e-20      T\n",
    "  /\n",
    "END"
   ]
  },
  {
   "cell_type": "markdown",
   "id": "00876376-e2bb-48cd-a1e4-78c61e36dee2",
   "metadata": {},
   "source": [
    "**Geochemical condition in engine input file (CrunchFlow)**"
   ]
  },
  {
   "cell_type": "raw",
   "id": "54fa9b83-6d8a-4388-81cd-d01aec522a29",
   "metadata": {},
   "source": [
    "Condition initial\n",
    "units     mol/kg\n",
    "temperature      25.0\n",
    "tracer1          1.e-20\n",
    "tracer2          1.e-20\n",
    "END\n",
    "\n",
    "Condition rainfall\n",
    "units     mol/kg\n",
    "temperature      25.0\n",
    "tracer1          1.0e-20\n",
    "tracer2          1.01081796081\n",
    "END\n",
    "\n",
    "Condition fertilizer\n",
    "units     mol/kg\n",
    "temperature      25.0\n",
    "tracer1          1.01081796081\n",
    "tracer2          1.e-20\n",
    "END"
   ]
  },
  {
   "cell_type": "markdown",
   "id": "00527a70-73cb-4dd6-afd4-f4c3a891d219",
   "metadata": {},
   "source": [
    "**Transport sources (surface) also use geochemical conditions**\n",
    "\n",
    "```xml\n",
    "  <ParameterList name=\"PKs\">\n",
    "    ...\n",
    "      \n",
    "    <ParameterList name=\"surface transport\">\n",
    "    ...\n",
    "\n",
    "      <ParameterList name=\"source terms\">\n",
    "        <ParameterList name=\"geochemical\" type=\"ParameterList\">\n",
    "            \n",
    "          <ParameterList name=\"Rain condition\" type=\"ParameterList\">\n",
    "            <Parameter name=\"water source key\" type=\"string\" value=\"surface-rain_water_source\"/>\n",
    "            <Parameter name=\"regions\" type=\"Array(string)\" value=\"{surface domain}\"/>\n",
    "            <Parameter name=\"solutes\" type=\"Array(string)\" value=\"{Tracer1,Tracer2}\"/>\n",
    "            <Parameter name=\"times\" type=\"Array(double)\" value=\"{0.0, 8640000.0}\"/>\n",
    "            <Parameter name=\"geochemical conditions\" type=\"Array(string)\" value=\"{rainfall,rainfall}\"/>\n",
    "            <Parameter name=\"time functions\" type=\"Array(string)\" value=\"{constant}\"/>              \n",
    "            <Parameter name=\"ats units [moles/m^3]\" type=\"bool\" value=\"true\"/>\n",
    "          </ParameterList>\n",
    "            \n",
    "          <ParameterList name=\"Irrigation condition\" type=\"ParameterList\">\n",
    "            <Parameter name=\"water source key\" type=\"string\" value=\"surface-injection_water_source\"/>\n",
    "            <Parameter name=\"regions\" type=\"Array(string)\" value=\"{injection}\"/>\n",
    "            <Parameter name=\"solutes\" type=\"Array(string)\" value=\"{Tracer1,Tracer2}\"/>\n",
    "            <Parameter name=\"times\" type=\"Array(double)\" value=\"{0.0, 8640000.0}\"/>\n",
    "            <Parameter name=\"geochemical conditions\" type=\"Array(string)\" value=\"{fertilizer,fertilizer}\"/>\n",
    "            <Parameter name=\"time functions\" type=\"Array(string)\" value=\"{constant}\"/>\n",
    "            <Parameter name=\"ats units [moles/m^3]\" type=\"bool\" value=\"true\"/>\n",
    "          </ParameterList>\n",
    "\n",
    "        </ParameterList>\n",
    "      </ParameterList>\n",
    "```"
   ]
  },
  {
   "cell_type": "markdown",
   "id": "718e61ca-f03e-4f31-89f5-2cebcd2204e3",
   "metadata": {},
   "source": [
    "**Some Notes:**"
   ]
  },
  {
   "cell_type": "markdown",
   "id": "38b068db-e27c-4e61-ba64-ca77b8231442",
   "metadata": {},
   "source": [
    "**Evaluator for water sources tied to geochemical conditions**\n",
    "\n",
    "```xml\n",
    "  <ParameterList name=\"state\">\n",
    "    ...\n",
    "\n",
    "    <ParameterList name=\"evaluators\" type=\"ParameterList\">\n",
    "    ...\n",
    "        \n",
    "      <ParameterList name=\"surface-water_source\" type=\"ParameterList\">\n",
    "        <Parameter name=\"evaluator type\" type=\"string\" value=\"additive evaluator\"/>\n",
    "        <Parameter name=\"dependencies\" type=\"Array(string)\" value=\"{surface-rain_water_source,surface-injection_water_source}\"/>\n",
    "      </ParameterList>\n",
    " \n",
    "      <ParameterList name=\"surface-rain_water_source\">\n",
    "        <Parameter name=\"evaluator type\" type=\"string\" value=\"independent variable\"/>\n",
    "        <ParameterList name=\"function\">\n",
    "          <ParameterList name=\"rain source\">\n",
    "            <Parameter name=\"region\" type=\"string\" value=\"surface domain\"/>\n",
    "            <Parameter name=\"component\" type=\"string\" value=\"cell\"/>\n",
    "            <ParameterList name=\"function\">\n",
    "              <ParameterList name=\"function-tabular\">\n",
    "                <Parameter name=\"x values\" type=\"Array(double)\" value=\"{0, 864000}\"/>\n",
    "                <Parameter name=\"y values\" type=\"Array(double)\" value=\"{5.5e-7, 0.0}\"/>\n",
    "                <Parameter name=\"forms\" type=\"Array(string)\" value=\"{constant}\"/>\n",
    "              </ParameterList>\n",
    "            </ParameterList>\n",
    "          </ParameterList>\n",
    "        </ParameterList>\n",
    "      </ParameterList>\n",
    "\n",
    "      <ParameterList name=\"surface-injection_water_source\">\n",
    "        <Parameter name=\"evaluator type\" type=\"string\" value=\"independent variable\"/>\n",
    "        <ParameterList name=\"function\">\n",
    "          <ParameterList name=\"irrigation source\">\n",
    "            <Parameter name=\"region\" type=\"string\" value=\"injection\"/>\n",
    "            <Parameter name=\"component\" type=\"string\" value=\"cell\"/>\n",
    "            <ParameterList name=\"function\">\n",
    "              <ParameterList name=\"function-tabular\">\n",
    "                <Parameter name=\"x values\" type=\"Array(double)\" value=\"{0.0, 864000.0}\"/>\n",
    "                <Parameter name=\"y values\" type=\"Array(double)\" value=\"{8.e-6, 0.0}\"/>\n",
    "                <Parameter name=\"forms\" type=\"Array(string)\" value=\"{constant}\"/>               \n",
    "              </ParameterList>\n",
    "            </ParameterList>\n",
    "          </ParameterList>\n",
    "        </ParameterList>\n",
    "      </ParameterList>\n",
    "```"
   ]
  },
  {
   "cell_type": "markdown",
   "id": "b664b549-f35a-4683-a97b-5d3a7433c6df",
   "metadata": {},
   "source": [
    "### Let's run the simulation:\n",
    "\n",
    "```sh\n",
    "(base) ats_sc_user@e2614fb043da:~/work/ats-short-course/04_reactive_transport$ mkdir run_transport_hillslope\n",
    "(base) ats_sc_user@e2614fb043da:~/work/ats-short-course/04_reactive_transport$ cd run_transport_hillslope\n",
    "\n",
    "(base) ats_sc_user@e2614fb043da:~/work/ats-short-course/04_reactive_transport/run_transport_hillslope$ nohup mpirun -n 2 ats --xml_file=../transport_hillslope_pflotran.xml > log &\n",
    "                                                              or\n",
    "(base) ats_sc_user@e2614fb043da:~/work/ats-short-course/04_reactive_transport/run_transport_hillslope$ nohup mpirun -n 2 ats --xml_file=../transport_hillslope_crunch.xml > log &\n",
    "\n",
    "(base) ats_sc_user@e2614fb043da:~/work/ats-short-course/04_reactive_transport/run_transport_hillslope$ tail -f log | grep -e Cycle\n",
    "```"
   ]
  },
  {
   "cell_type": "markdown",
   "id": "d260efdb-eb64-45d7-bc64-63502e7af3ba",
   "metadata": {},
   "source": [
    "### Let's look at the results"
   ]
  },
  {
   "cell_type": "markdown",
   "id": "5b0e1b09-f6f4-4e10-9068-e74a55032a45",
   "metadata": {},
   "source": [
    "**VisIt**"
   ]
  },
  {
   "cell_type": "markdown",
   "id": "3b05425f-8ad2-4e8d-9288-90c0f7afdb5c",
   "metadata": {},
   "source": [
    "### Exercise 2b: Develop and test the geochemical problem in PFLOTRAN or CrunchFlow"
   ]
  },
  {
   "cell_type": "markdown",
   "id": "12abe492-ccae-4e5c-8534-314c7f0aa808",
   "metadata": {},
   "source": [
    "The geochemical calculations are performed by the geochemical solvers provided by PFLOTRAN and CrunchFlow. The user can choose whichever they are more familiar with. It is highly recommended that before assembling a full simulations with ATS, test runs are peformed with the geochemical engines as standalone reactive transport codes. This has two main benefits:\n",
    "\n",
    "* It serves as a sandbox to develop the geochemical model more efficiently than running the coupled code \n",
    "* It ensures that the geochemical problem can be solved by the engine, isolating any potential issues with the engine before tackling the coupled problem\n",
    "\n",
    "This exercise sets up a geochemical problem with PFLOTRAN and CrunchFlow that includes 4 geochemical conditions:\n",
    "* rainwater (termed rainfall)\n",
    "* irrigattion water (termed fertilizer) \n",
    "* subsurface water in organic carbon poor (shallow) regions (termed oc_poor)\n",
    "* subsurface water in organic carbon rich (deep) regions, which includes solid organic matter, or SOM (termed oc_rich)\n",
    "\n",
    "What we will learn:\n",
    "* To explore the engine input files, make changes to constraints that define geochemical conditions\n",
    "* To explore the engine output files to understand the composition of the solutions\n",
    "\n",
    "Files we will use:\n",
    "* PFLOTRAN input files: pflotran_dir/nitrate-surface.in, pflotran_dir/nitrate-subsurface.in \n",
    "* PFLOTRAN databaset file : pflotran_dir/db/hanford.dat\n",
    "* CrunchFlow input files: crunch_dir/nitrate-surface.in, crunch_dir/nitrate-subsurface.in\n",
    "* CrunchFlow database file: crunch_dir/db/database.dat\n",
    "\n",
    "Change to your directory of choice, `pflotran_dir` or `crunch_dir`:\n",
    "\n",
    "```sh\n",
    "(base) ats_sc_user@e2614fb043da:~/work/ats-short-course/04_reactive_transport$ cd pflotran_dir\n",
    "```\n",
    "or\n",
    "```sh\n",
    "(base) ats_sc_user@e2614fb043da:~/work/ats-short-course/04_reactive_transport$ cd crunch_dir\n",
    "```"
   ]
  },
  {
   "cell_type": "markdown",
   "id": "d2efe965-475c-41ba-8d01-0d69db8d8e40",
   "metadata": {},
   "source": [
    "### Let's explore the engine input files"
   ]
  },
  {
   "cell_type": "raw",
   "id": "3a0e899d-9316-4669-bc12-9fc5b664d026",
   "metadata": {},
   "source": [
    "TO DO"
   ]
  },
  {
   "cell_type": "markdown",
   "id": "de92424f-9718-414c-9692-bbda5ff10b1f",
   "metadata": {},
   "source": [
    "### Let's run the geochemical input file with the respective standalone simulators: \n",
    "\n",
    "```sh\n",
    "(base) ats_sc_user@e2614fb043da:~/work/ats-short-course/04_reactive_transport/pflotran_dir$pflotran --pflotranin nitrate-surface.in \n",
    "\n",
    "(base) ats_sc_user@e2614fb043da:~/work/ats-short-course/04_reactive_transport/pflotran_dir$pflotran --pflotranin nitrate-subsurface.in\n",
    "```\n",
    "or\n",
    "```sh\n",
    "(base) ats_sc_user@e2614fb043da:~/work/ats-short-course/04_reactive_transport/crunch_dir$CrunchTope\n",
    "``` \n",
    "           and then type nitrate-surface.in or nitrate-subsurface.in followed by RETURN\n",
    "\n"
   ]
  },
  {
   "cell_type": "markdown",
   "id": "0ec1a879-f8bd-4d27-9ecf-87abda12554b",
   "metadata": {},
   "source": [
    "### Let's explore the engine output files"
   ]
  },
  {
   "cell_type": "raw",
   "id": "d2dfc6d8-2f58-435e-aa54-fd3becba2ce0",
   "metadata": {},
   "source": [
    "TO DO"
   ]
  },
  {
   "cell_type": "markdown",
   "id": "1283ce84-7fdf-4c22-b3ef-179e140ce8a3",
   "metadata": {},
   "source": [
    "### Exercise 2c: Put everything together"
   ]
  },
  {
   "cell_type": "markdown",
   "id": "aa0fa9e8-3f7f-4df6-963e-175b1759cbbf",
   "metadata": {},
   "source": [
    "Now that we have both components tested separately, we can assemble the coupled simulation by replacing the engine input files in the approaproate source and initial conditions sections.\n",
    "\n",
    "What we will learn:\n",
    "\n",
    "* To\n",
    "* To \n",
    "\n",
    "Files we will use:\n",
    "* Input files: reactive_hillslope_pflotran.xml or reactive_hillslope_crunch.xml\n",
    "* PFLOTRAN input files: pflotran_dir/nitrate-surface.in, pflotran_dir/nitrate-subsurface.in\n",
    "* PFLOTRAN databaset file : pflotran_dir/db/hanford.dat\n",
    "* CrunchFlow input files: crunch_dir/nitrate-surface.in, crunch_dir/nitrate-subsurface.in\n",
    "* CrunchFlow database file: crunch_dir/db/database.dat\n",
    "* Mesh file:\n",
    "* Flow restart:"
   ]
  },
  {
   "cell_type": "markdown",
   "id": "aa2a9537-2584-4d09-94f8-8b9d350d2fbd",
   "metadata": {},
   "source": [
    "### What is added and/or modified with respect to the transport problem from Exercise 2a?"
   ]
  },
  {
   "cell_type": "markdown",
   "id": "e20dfdce-16f9-462e-853a-af1c7a1594f9",
   "metadata": {},
   "source": [
    "**Subsurface chemistry (PFLOTRAN)**\n",
    "\n",
    "* update input file with the one we just checked\n",
    "* add mineral to the PK\n",
    "* specify different initial conditions to shallow (organic carbon poor) vs deep (organic carbon rich) zones\n",
    "\n",
    "```xml\n",
    "  <ParameterList name=\"PKs\" type=\"ParameterList\">\n",
    "    ...\n",
    "      \n",
    "    <ParameterList name=\"chemistry subsurface\" type=\"ParameterList\">\n",
    "      <Parameter name=\"PK type\" type=\"string\" value=\"chemistry alquimia\"/>\n",
    "      <Parameter name=\"engine\" type=\"string\" value=\"PFloTran\"/>\n",
    "      <Parameter name=\"engine input file\" type=\"string\" value=\"../pflotran_dir/nitrate-subsurface.in\"/>\n",
    "      <Parameter name=\"domain name\" type=\"string\" value=\"domain\"/>\n",
    "      <Parameter name=\"minerals\" type=\"Array(string)\" value=\"{SOM}\"/>        \n",
    "      <Parameter name=\"auxiliary data\" type=\"Array(string)\" value=\"{pH}\"/>\n",
    "      <Parameter name=\"debug cells\" type=\"Array(int)\" value=\"{99}\"/> \n",
    "\n",
    "      <ParameterList name=\"initial conditions\" type=\"ParameterList\">\n",
    "        <ParameterList name=\"geochemical conditions\" type=\"ParameterList\">\n",
    "          <ParameterList name=\"oc_poor\" type=\"ParameterList\">\n",
    "            <Parameter name=\"regions\" type=\"Array(string)\" value=\"{shallow}\"/>\n",
    "          </ParameterList>\n",
    "          <ParameterList name=\"oc_rich\" type=\"ParameterList\">\n",
    "            <Parameter name=\"regions\" type=\"Array(string)\" value=\"{deep}\"/>\n",
    "          </ParameterList>            \n",
    "        </ParameterList>\n",
    "      </ParameterList>\n",
    "```"
   ]
  },
  {
   "cell_type": "markdown",
   "id": "00814323-15e6-4fb8-a2c5-dde1d8390e62",
   "metadata": {},
   "source": [
    "**Mineral initial conditions**\n",
    "\n",
    "Note: these are required for now but dummy values are provided. Actual values come from the conditions. This may change in the future.\n",
    "\n",
    "```xml\n",
    "  <ParameterList name=\"state\" type=\"ParameterList\">\n",
    "    ...\n",
    "\n",
    "    <ParameterList name=\"initial conditions\" type=\"ParameterList\">\n",
    "      ...\n",
    "\n",
    "      <ParameterList name=\"mineral_volume_fractions\" type=\"ParameterList\">\n",
    "        <ParameterList name=\"function\" type=\"ParameterList\">\n",
    "          <ParameterList name=\"All\" type=\"ParameterList\">\n",
    "            <Parameter name=\"region\" type=\"string\" value=\"computational domain\"/>\n",
    "            <Parameter name=\"component\" type=\"string\" value=\"cell\"/>\n",
    "            <ParameterList name=\"function\" type=\"ParameterList\">\n",
    "              <Parameter name=\"number of dofs\" type=\"int\" value=\"1\"/>\n",
    "              <Parameter name=\"function type\" type=\"string\" value=\"composite function\"/>\n",
    "              <ParameterList name=\"dof 1 function\" type=\"ParameterList\">\n",
    "                <ParameterList name=\"function-constant\" type=\"ParameterList\">\n",
    "                  <Parameter name=\"value\" type=\"double\" value=\"0.00001\"/> <!--dummy-->\n",
    "                </ParameterList>\n",
    "              </ParameterList>\n",
    "            </ParameterList>\n",
    "          </ParameterList>\n",
    "        </ParameterList>\n",
    "      </ParameterList>\n",
    "\n",
    "      <ParameterList name=\"mineral_specific_surface_area\" type=\"ParameterList\">\n",
    "        <ParameterList name=\"function\" type=\"ParameterList\">\n",
    "          <ParameterList name=\"All\" type=\"ParameterList\">\n",
    "            <Parameter name=\"region\" type=\"string\" value=\"computational domain\"/>\n",
    "            <Parameter name=\"component\" type=\"string\" value=\"cell\"/>\n",
    "            <ParameterList name=\"function\">\n",
    "              <Parameter name=\"number of dofs\" type=\"int\" value=\"1\"/>\n",
    "              <Parameter name=\"function type\" type=\"string\" value=\"composite function\"/>\n",
    "              <ParameterList name=\"dof 1 function\">\n",
    "                <ParameterList name=\"function-constant\">\n",
    "                  <Parameter name=\"value\" type=\"double\" value=\"0.0\"/> <!--dummy-->\n",
    "                </ParameterList>\n",
    "              </ParameterList>\n",
    "            </ParameterList>\n",
    "          </ParameterList>\n",
    "        </ParameterList>\n",
    "      </ParameterList>\n",
    "\n",
    "      <ParameterList name=\"mineral_rate_constant\">\n",
    "        <ParameterList name=\"function\">\n",
    "          <ParameterList name=\"All\">\n",
    "            <Parameter name=\"region\" type=\"string\" value=\"computational domain\"/>\n",
    "            <Parameter name=\"component\" type=\"string\" value=\"cell\"/>\n",
    "            <ParameterList name=\"function\">\n",
    "              <Parameter name=\"number of dofs\" type=\"int\" value=\"1\"/>\n",
    "              <Parameter name=\"function type\" type=\"string\" value=\"composite function\"/>\n",
    "              <ParameterList name=\"dof 1 function\">\n",
    "                <ParameterList name=\"function-constant\">\n",
    "                  <Parameter name=\"value\" type=\"double\" value=\"0.0\"/> <!--dummy-->\n",
    "                </ParameterList>\n",
    "              </ParameterList>\n",
    "            </ParameterList>\n",
    "          </ParameterList>\n",
    "        </ParameterList>\n",
    "      </ParameterList>\n",
    "```"
   ]
  },
  {
   "cell_type": "markdown",
   "id": "30d08076-162c-4415-95ed-7acc2460ccd8",
   "metadata": {},
   "source": [
    "**Update the name of the transported components and sources in transport PKs**\n",
    "\n",
    "Note: make sure that the component names are given in the same order as in the engine input file. We are currently not checking. \n",
    "    \n",
    "```xml    \n",
    "  <ParameterList name=\"transport_coupler\">\n",
    "    ...\n",
    "    \n",
    "    <ParameterList name=\"transport_coupler\">\n",
    "      <Parameter name=\"PK type\" type=\"string\" value=\"surface subsurface transport\"/>\n",
    "      <Parameter name=\"PKs order\" type=\"Array(string)\" value=\"{subsurface transport, surface transport}\"/>\n",
    "      <Parameter name=\"component names\" type=\"Array(string)\" value=\"{DOM1,O2(aq),NO3-,HCO3-,H+,N2(aq)}\"/>\n",
    "    </ParameterList>\n",
    "\n",
    "    <ParameterList name=\"subsurface transport\">\n",
    "      <Parameter name=\"PK type\" type=\"string\" value=\"transport ATS\"/>\n",
    "      <Parameter name=\"component names\" type=\"Array(string)\" value=\"{DOM1,O2(aq),NO3-,HCO3-,H+,N2(aq)}\"/>\n",
    "    ...\n",
    "\n",
    "    <ParameterList name=\"surface transport\">\n",
    "      <Parameter name=\"PK type\" type=\"string\" value=\"transport ATS\"/>\n",
    "      <Parameter name=\"domain name\" type=\"string\" value=\"surface\"/>\n",
    "      <Parameter name=\"water source in meters\" type=\"bool\" value=\"true\"/>\n",
    "      <Parameter name=\"component names\" type=\"Array(string)\" value=\"{DOM1,O2(aq),NO3-,HCO3-,H+,N2(aq)}\"/>\n",
    "    ...\n",
    "\n",
    "      <ParameterList name=\"source terms\">\n",
    "        <ParameterList name=\"geochemical\" type=\"ParameterList\">\n",
    "          <ParameterList name=\"rain water condition\" type=\"ParameterList\">\n",
    "            <Parameter name=\"water source key\" type=\"string\" value=\"surface-rain_water_source\"/>\n",
    "            <Parameter name=\"regions\" type=\"Array(string)\" value=\"{surface domain}\"/>\n",
    "            <Parameter name=\"solutes\" type=\"Array(string)\" value=\"{DOM1,O2(aq),NO3-,HCO3-,H+,N2(aq)}\"/>\n",
    "          ...\n",
    "              \n",
    "          <ParameterList name=\"irrigation condition\" type=\"ParameterList\">\n",
    "            <Parameter name=\"water source key\" type=\"string\" value=\"surface-injection_water_source\"/>\n",
    "            <Parameter name=\"regions\" type=\"Array(string)\" value=\"{injection}\"/>\n",
    "            <Parameter name=\"solutes\" type=\"Array(string)\" value=\"{DOM1,O2(aq),NO3-,HCO3-,H+,N2(aq)}\"/>\n",
    "          ...\n",
    "```"
   ]
  },
  {
   "cell_type": "markdown",
   "id": "3980ceca-8624-4425-b8ba-eac0a6fada30",
   "metadata": {},
   "source": [
    "### Let's run the simulation:\n",
    "\n",
    "```sh\n",
    "(base) ats_sc_user@e2614fb043da:~/work/ats-short-course/04_reactive_transport$ mkdir run_reactive_hillslope\n",
    "(base) ats_sc_user@e2614fb043da:~/work/ats-short-course/04_reactive_transport$ cd run_reactive_hillslope\n",
    "\n",
    "(base) ats_sc_user@e2614fb043da:~/work/ats-short-course/04_reactive_transport/run_reactive_hillslope$ nohup mpirun -n 2 ats --xml_file=../reactive_hillslope_pflotran.xml > log &\n",
    "                                                              or\n",
    "(base) ats_sc_user@e2614fb043da:~/work/ats-short-course/04_reactive_transport/run_reactive_hillslope$ nohup mpirun -n 2 ats --xml_file=../reactive_hillslope_crunch.xml > log &\n",
    "\n",
    "(base) ats_sc_user@e2614fb043da:~/work/ats-short-course/04_reactive_transport/run_reactive_hillslope$ tail -f log | grep -e Cycle\n",
    "```"
   ]
  },
  {
   "cell_type": "code",
   "execution_count": null,
   "id": "f67f4735-0b63-49c8-8712-0ac8ecf8d457",
   "metadata": {},
   "outputs": [],
   "source": []
  }
 ],
 "metadata": {
  "kernelspec": {
   "display_name": "Python 3 (ipykernel)",
   "language": "python",
   "name": "python3"
  },
  "language_info": {
   "codemirror_mode": {
    "name": "ipython",
    "version": 3
   },
   "file_extension": ".py",
   "mimetype": "text/x-python",
   "name": "python",
   "nbconvert_exporter": "python",
   "pygments_lexer": "ipython3",
   "version": "3.12.11"
  }
 },
 "nbformat": 4,
 "nbformat_minor": 5
}
