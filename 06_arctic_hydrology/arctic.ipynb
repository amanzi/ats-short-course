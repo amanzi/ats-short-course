{
 "cells": [
  {
   "cell_type": "code",
   "execution_count": 1,
   "id": "94b4770b-be68-4672-88ac-d5caa55c1074",
   "metadata": {},
   "outputs": [],
   "source": [
    "import os\n",
    "import pandas as pd\n",
    "import numpy as np\n",
    "import matplotlib.pyplot as plt\n",
    "\n",
    "%matplotlib qt5"
   ]
  },
  {
   "cell_type": "code",
   "execution_count": null,
   "id": "0c049a0c-c32e-4835-968e-bcdce3e3e64d",
   "metadata": {},
   "outputs": [],
   "source": []
  },
  {
   "cell_type": "markdown",
   "id": "3b7e7070-9ac7-410f-a8c4-4f6bc1298f8f",
   "metadata": {},
   "source": [
    "# Model configuration"
   ]
  },
  {
   "cell_type": "markdown",
   "id": "a144f895-fc66-4534-9aa4-a161ef2674dd",
   "metadata": {},
   "source": [
    "<img src='image/model_tree.png' width='400' alt='pk tree' align='center' />\n",
    "\n",
    "\n",
    "Refer to **\"Integrated surface/subsurface permafrost thermal hydrology: Model formulation and proof‐of‐concept simulations\" (Painter et al., 2016)** "
   ]
  },
  {
   "cell_type": "markdown",
   "id": "208dbe53-337f-4e4c-aeb1-063b48772853",
   "metadata": {},
   "source": [
    "# Saturation Patition"
   ]
  },
  {
   "cell_type": "markdown",
   "id": "ed095965-a6b1-416e-90a0-b8b76378e7e3",
   "metadata": {},
   "source": [
    "* Three phases: gas, liquid water, ice.\n",
    "* Saturations are determined by temperature and capillary pressue between phases.\n",
    "* The pressure gradient between liquid water and ice (capillary pressure between ice and liquid) draws liquid water toward the freezing front in porous media during freezing period (**cryosuction**).\n",
    "* Saturation model [refer to Painter & Karra (2014)]:"
   ]
  },
  {
   "cell_type": "markdown",
   "id": "a28d5072-b223-46b7-ab2e-055f839aeddb",
   "metadata": {},
   "source": [
    "<img src='image/sat_math_declar.png' width='600' alt='saturation model' align='center' />"
   ]
  },
  {
   "cell_type": "markdown",
   "id": "205a41d7-a8a9-4103-95e4-2ce9c101068d",
   "metadata": {},
   "source": [
    "<img src='image/sat_xml.png' width='800' alt='pk tree' align='center' />"
   ]
  },
  {
   "cell_type": "markdown",
   "id": "d5893746-6394-4057-a9b5-afa6dda42a67",
   "metadata": {},
   "source": [
    "# Relative permeability"
   ]
  },
  {
   "cell_type": "markdown",
   "id": "fb066d90-82e8-4d0c-83c8-7e3a62fc09b4",
   "metadata": {},
   "source": [
    "## ATS options"
   ]
  },
  {
   "cell_type": "markdown",
   "id": "adb57977-5bc9-441a-a305-3a4a1a5cd8ad",
   "metadata": {},
   "source": [
    "<img src='image/kr_options.png' width='900' alt='pk tree' align='center' />"
   ]
  },
  {
   "cell_type": "markdown",
   "id": "7bf60e22-b4a7-4a8f-9ee9-4588b2a59404",
   "metadata": {},
   "source": [
    "Normally used:\n",
    "* water retention model + van Genuchten - Mualem\n",
    "* freezing Brooks-Corey + Brooks-Corey\n",
    "* SutraICE + Brooks-Corey"
   ]
  },
  {
   "cell_type": "markdown",
   "id": "83c295e0-9f46-49b9-bbb4-d23383e8a701",
   "metadata": {},
   "source": [
    "## Kr effect"
   ]
  },
  {
   "cell_type": "code",
   "execution_count": 74,
   "id": "1d231ac9-5a35-47cf-8ef8-4f10f369838b",
   "metadata": {},
   "outputs": [],
   "source": [
    "df_wrm_vg = pd.read_csv(\"hillslope-wrmVG_krWRMtypeVG/observation.dat\", comment='#', delimiter=' ').iloc[365:].reset_index(drop=True)\n",
    "df_frzbc_bc = pd.read_csv(\"hillslope-wrmVG_krFrzBCtypeBC/observation.dat\", comment='#', delimiter=' ').iloc[365:].reset_index(drop=True)\n",
    "df_sutraice_bc = pd.read_csv(\"hillslope-wrmVG_krSutraICEtypeBC/observation.dat\", comment='#', delimiter=' ').iloc[365:].reset_index(drop=True)\n"
   ]
  },
  {
   "cell_type": "code",
   "execution_count": 75,
   "id": "e4378028-9acd-436a-986d-0caae533f560",
   "metadata": {},
   "outputs": [],
   "source": [
    "fig, ax = plt.subplots(1,1, figsize=(10,4))\n",
    "plt.subplots_adjust(left=0.06, right=0.94, top=0.98, bottom=0.11)\n",
    "density = 55500\n",
    "key = 'discharge [mol/d]'\n",
    "(df_wrm_vg[key]/density).plot(ax=ax, label='water retention model, van Genuchten-Mualem')\n",
    "(df_frzbc_bc[key]/density).plot(ax=ax, label='freezing Brooks-Corey, Brooks-Corey')\n",
    "(df_sutraice_bc[key]/density).plot(ax=ax, label='SutraICE, Brooks-Corey')\n",
    "\n",
    "ax2 = ax.twinx()\n",
    "df_wrm_vg['rain [m3/d]'].plot(ax=ax2, color='grey')\n",
    "ax2.invert_yaxis()\n",
    "\n",
    "ax.set_xlabel('Days')\n",
    "ax.set_ylabel(r'Discharge [m$^3$/d]');\n",
    "ax2.set_ylabel(r'Rainfall [m$^3$/d]');\n",
    "\n",
    "handles, labels = ax.get_legend_handles_labels()\n",
    "ax.legend(handles=handles, labels=labels, loc='center');"
   ]
  },
  {
   "cell_type": "code",
   "execution_count": 79,
   "id": "035556e6-12a1-45ec-80c0-8e366996eed7",
   "metadata": {},
   "outputs": [],
   "source": [
    "fig, ax = plt.subplots(1,1, figsize=(10,4))\n",
    "plt.subplots_adjust(left=0.06, right=0.94, top=0.98, bottom=0.11)\n",
    "density = 55500\n",
    "key = 'surface-subsurface exchange [mol/d]'\n",
    "(-df_wrm_vg[key]/density).plot(ax=ax, label='water retention model, van Genuchten-Mualem')\n",
    "(-df_frzbc_bc[key]/density).plot(ax=ax, label='freezing Brooks-Corey, Brooks-Corey')\n",
    "(-df_sutraice_bc[key]/density).plot(ax=ax, label='SutraICE, Brooks-Corey')\n",
    "\n",
    "\n",
    "ax.set_xlabel('Days')\n",
    "ax.set_ylabel(r'Infiltration [m$^3$/d]');\n",
    "\n",
    "handles, labels = ax.get_legend_handles_labels()\n",
    "ax.legend(handles=handles, labels=labels, loc='upper center');"
   ]
  },
  {
   "cell_type": "markdown",
   "id": "75e5230f-a5e9-4375-8426-3ea2427d1b59",
   "metadata": {},
   "source": []
  },
  {
   "cell_type": "markdown",
   "id": "432aa4d1-9323-4660-9a89-e86ba633f7bb",
   "metadata": {},
   "source": [
    "<img src='image/sat180d.png' width='1200' alt='pk tree' align='center' />"
   ]
  },
  {
   "cell_type": "code",
   "execution_count": null,
   "id": "0e5149f8-f0fd-4211-988f-5b446b2623ac",
   "metadata": {},
   "outputs": [],
   "source": []
  },
  {
   "cell_type": "markdown",
   "id": "dc78b958-b5a2-4748-9158-b1cf2bdc7a64",
   "metadata": {},
   "source": [
    "## Implementation in input files"
   ]
  },
  {
   "cell_type": "markdown",
   "id": "333b56de-bd54-4a40-8cb0-9a641dab4f57",
   "metadata": {},
   "source": [
    "<img src='image/wrmvg.png' width='700' alt='pk tree' align='center' />"
   ]
  },
  {
   "cell_type": "markdown",
   "id": "dc5a2833-a5bb-4bf1-86c5-998ccf721282",
   "metadata": {},
   "source": [
    "<img src='image/krzbc.png' width='700' alt='pk tree' align='center' />"
   ]
  },
  {
   "cell_type": "code",
   "execution_count": null,
   "id": "504c25b4-1ccf-4536-afb4-63545dec3d8c",
   "metadata": {},
   "outputs": [],
   "source": []
  },
  {
   "cell_type": "code",
   "execution_count": null,
   "id": "d5d00050-9b1e-44fe-983d-04fe15220c02",
   "metadata": {},
   "outputs": [],
   "source": []
  }
 ],
 "metadata": {
  "kernelspec": {
   "display_name": "Python [conda env:myenv] *",
   "language": "python",
   "name": "conda-env-myenv-py"
  },
  "language_info": {
   "codemirror_mode": {
    "name": "ipython",
    "version": 3
   },
   "file_extension": ".py",
   "mimetype": "text/x-python",
   "name": "python",
   "nbconvert_exporter": "python",
   "pygments_lexer": "ipython3",
   "version": "3.9.13"
  }
 },
 "nbformat": 4,
 "nbformat_minor": 5
}
