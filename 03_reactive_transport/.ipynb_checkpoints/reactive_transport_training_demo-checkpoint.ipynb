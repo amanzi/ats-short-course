{
 "cells": [
  {
   "cell_type": "markdown",
   "metadata": {},
   "source": [
    "# Demo 3: Reactive Transport"
   ]
  },
  {
   "cell_type": "markdown",
   "metadata": {},
   "source": [
    "This notebook contains a series of problems that demonstrate how to set up and run reactive transport simulations with Amanzi-ATS. It is organized in 3 subproblems that demonstrate the following processes of increasing complexity: \n",
    "\n",
    "1. Transport of a solute dissolved in surface water.\n",
    "2. Reactive transport of 2 solutes in the subsurface. \n",
    "3. Integrated flow and reactive transport. \n",
    "\n",
    "The surface transport problem uses a dilution test as an example for setting solute sources and demonstrating key physical transport processes. The subsurface transport problem demonstrates how to set boundary conditions for transport and adds sorption to introduce reactions. The simulation of integrated flow and reactive transport in a hillslope . \n",
    "\n",
    "This notebook describes the problems, visualizes the results and guides the attendees to tinker with various parameters and analyze model response. The attendees should have following three directories with respective model files in them. <br>\n",
    "\n",
    "1) surface_transport <br>\n",
    "2) subsurface_transport <br>\n",
    "3) hillslope <br> "
   ]
  },
  {
   "cell_type": "code",
   "execution_count": 2,
   "metadata": {},
   "outputs": [],
   "source": [
    "import pandas as pd\n",
    "import matplotlib.pyplot as plt\n",
    "import numpy as np\n",
    "import h5py\n",
    "from IPython.display import Image"
   ]
  },
  {
   "cell_type": "markdown",
   "metadata": {},
   "source": [
    "## 1) Surface Transport"
   ]
  },
  {
   "cell_type": "markdown",
   "metadata": {},
   "source": [
    "### 1.1) Problem Description "
   ]
  },
  {
   "cell_type": "markdown",
   "metadata": {},
   "source": [
    "The surface transport is demonstrated using a simple 1D transport in a 100 m long stream section with 3 $m^2$ cross section area. Dilution test, a common technique to measure discharge ($Q$) in the field is used as an example. In this test, solute solution of known solute concentration ($C_{in}$) is injected into the stream at a known steady rate ($Q_{in}$) and concentration time series ($C_{obs}$) also known as breakthrough curve (BTC) is measured at a downstream location. Figure below shows the schematics of the problem. <br>\n",
    "\n",
    "<img src=\"./pictures/surface_problem.jpg\" alt=\"Drawing\" style=\"width: 1000px;\"/>\n",
    "\n",
    "The expected plateau concentration is calculated based on the mass conservation of the solute (see figure). The arrival time of the solute front at the measurement location is $\\frac{100m}{\\frac{0.03m^3/s}{3m^2}} = 10,000 s$\n",
    "\n",
    "The key features of this demo:\n",
    "\n",
    "1) 2D mesh for surface transport <br>\n",
    "2) Solute injection using PFLOTRAN <br>\n",
    "3) Advection-dispersion <br>\n",
    "4) Decay (special case) <br>"
   ]
  },
  {
   "cell_type": "markdown",
   "metadata": {},
   "source": [
    "### 1.2) Input Specs "
   ]
  },
  {
   "cell_type": "markdown",
   "metadata": {},
   "source": [
    "Here some of the transport specific input specifications and respective parameter lists are described. The directory should have following files in the <I>surface_transport</I> directory:\n",
    "\n",
    "* surface_transport.xml (ATS input file)\n",
    "* surface_transport.in  (PFLOTRAN input file)\n",
    "* hanford.dat (Database)\n",
    "\n",
    "ATS inputs for key quantities are shown below (in ATS units):\n",
    "\n",
    "<img src=\"./pictures/surface_problem_ATS.jpg\" alt=\"Drawing\" style=\"width: 800px;\"/>\n",
    "  \n",
    "Solute injection related inputs:\n",
    "\n",
    "* <b>Geochemical Engine</b>: To specify the geochemical engine to be used. Here we use PFLOTRAN. <br>\n",
    "\n",
    "```xml\n",
    "    <ParameterList name=\"surface chemistry\" type=\"ParameterList\">\n",
    "      <Parameter name=\"PK type\" type=\"string\" value=\"chemistry alquimia\" />\n",
    "      <Parameter name=\"engine\" type=\"string\" value=\"PFloTran\" />\n",
    "```\n",
    "\n",
    "* <b>Injection rate</b>: This is provided in the form of flow rate per unit volume of injection domain, in the parameterlist <b><i>surface-water_source</i></b> <br>\n",
    "\n",
    "<img src=\"./pictures/surface-water_source.png\" alt=\"Drawing\" style=\"width: 500px;\"/>\n",
    "\n",
    "* <b> Solute concentration in the injection </b>: ATS is informed that this concentration is specified through geochemical engine. <br>\n",
    "\n",
    "<img src=\"./pictures/geochemical_condition_surface.png\" alt=\"Drawing\" style=\"width: 500px;\"/>\n",
    "\n",
    "And the value of concetration is provided in the PFLOTRAN input file as molarity in the <b><i>CONSTRAINT</i></b> deck <br>\n",
    "\n",
    "<img src=\"./pictures/inj_conc_surface.png\" alt=\"Drawing\" style=\"width: 100px;\"/>\n",
    "\n",
    "Transport processes related inputs:\n",
    "\n",
    "* <b>Advection</b>: Flowrate in the domain (Q): This is provided in the form of flux (flowrate per unit cross-section area) in the parameterlist <b><i>surface-mass_flux</i></b> <br>\n",
    "\n",
    "<img src=\"./pictures/surface-mass_flux.png\" alt=\"Drawing\" style=\"width: 500px;\"/>\n",
    "\n",
    "* <b>Dispersion</b>: Dispersion coefficient: This is provided in the parameterlist <b><i>material properties</i></b>\n",
    "\n",
    "<img src=\"./pictures/surface_dispersion.png\" alt=\"Drawing\" style=\"width: 400px;\"/>"
   ]
  },
  {
   "cell_type": "markdown",
   "metadata": {},
   "source": [
    "### 1.3) Result Visualization"
   ]
  },
  {
   "cell_type": "markdown",
   "metadata": {},
   "source": [
    "Here, we are visualizing results in the form of concentration timeseries or breakthrough curve (BTC) at a given location. This is done through <b><i>observations</i></b> parameterlist. The BTCs are written in ATS in a \".dat\" file in mol-species/mol-water. \n",
    "\n",
    "<img src=\"./pictures/surface_observation.png\" alt=\"Drawing\" style=\"width: 500px;\"/>"
   ]
  },
  {
   "cell_type": "code",
   "execution_count": 4,
   "metadata": {},
   "outputs": [],
   "source": [
    "# ATS raw output unit: mol-species/mol-water in surface-outlet.dat\n",
    "# Convert to mole-species/m^3-water\n",
    "unit_convert_transport = 55500"
   ]
  },
  {
   "cell_type": "code",
   "execution_count": 12,
   "metadata": {},
   "outputs": [
    {
     "data": {
      "image/png": "[encoded data removed]",
      "text/plain": [
       "<Figure size 720x360 with 1 Axes>"
      ]
     },
     "metadata": {
      "needs_background": "light"
     },
     "output_type": "display_data"
    }
   ],
   "source": [
    "plt.rcParams['figure.figsize'] = [10, 5]\n",
    "path='./surface_problem/'\n",
    "BTC_1 = np.loadtxt(path+'surface-outlet.dat', skiprows=11) # surface-outlet.dat is the BTC file\n",
    "plt.plot(BTC_1[:,0], BTC_1[:,1]*unit_convert_transport, 'k-', label='Tracer1')\n",
    "plt.title(\"Breakthrough Curve at 100 m from Injection\", fontsize=20)\n",
    "plt.xlabel(\"Time (s)\",fontsize=16)\n",
    "plt.ylabel(\"Concentration ($mol_C/m^3_{H2O}$)\",fontsize=16)\n",
    "plt.xticks(fontsize=16)\n",
    "plt.yticks(fontsize=16)\n",
    "plt.legend(fontsize=12, loc='lower right')\n",
    "plt.show()"
   ]
  },
  {
   "cell_type": "markdown",
   "metadata": {},
   "source": [
    "### 1.4) Exercise "
   ]
  },
  {
   "cell_type": "markdown",
   "metadata": {},
   "source": [
    "Attendees (during the session or at \"home\") should tinker with the injection and transport parameters and see the effects on the BTC. Some suggestions:\n",
    "1) Double the value of <b><i>surface-mass_flux</i></b> and solute arrival should be at 5000s. However, this also increases the dilution and hence the plateau concetration should also be halved. <br> \n",
    "2) Try higher values of dispersion coefficient <br>\n",
    "3) Change concentration of injected solute and see the change in the plateau concentration <br>\n",
    "4) Introduce decay of solute by using non zero reaction coefficient value in the PFLOTRAN input file <br>"
   ]
  },
  {
   "cell_type": "markdown",
   "metadata": {},
   "source": [
    "## 2) Subsurface Transport"
   ]
  },
  {
   "cell_type": "markdown",
   "metadata": {},
   "source": [
    "### 2.1) Problem Description"
   ]
  },
  {
   "cell_type": "markdown",
   "metadata": {},
   "source": [
    "The subsurface transport is demonstrated using a 1D reactive transport in a 100m long domain with 2m width and 1.5m depth (3D mesh: 200-1-1) with a specified concentration boundary. The flux ($q$) in the horizontal direction is specific along with dispersivities (in bear model), porosity ($\\theta$), permeability ($k$) and sorption parameters ($K_d$). The reactant (Tracer1) in this example entering the domain through the specificied concentration boundary is undergoing first order decay into a product (Tracer2). Both the componenets are also undergoing equillibrium sorption in the domain. \n",
    "\n",
    "<img src=\"./pictures/subsurface_problem.jpg\" alt=\"Drawing\" style=\"width: 800px;\"/>\n",
    "\n",
    "The arrival time of the solute front at the measurement location in no sorption case is $\\frac{100m}{\\frac{0.0025m/s}{0.25}} = 10,000 s$\n",
    "\n",
    "\n",
    "The key features of this demo:\n",
    "\n",
    "1) 3D mesh for surface transport <br>\n",
    "2) Specific concetration boundary <br>\n",
    "3) Advection-dispersion-sorption <br>\n",
    "4) First order reaction\n"
   ]
  },
  {
   "cell_type": "markdown",
   "metadata": {},
   "source": [
    "### 2.2) Input Specs"
   ]
  },
  {
   "cell_type": "markdown",
   "metadata": {},
   "source": [
    "Here some of the transport specific input specifications and respective parameter lists are described. The directory should have following files in the <I>surface_transport</I> directory:\n",
    "\n",
    "* subsurface_transport.xml (ATS input file)\n",
    "* subsurface_transport.in  (PFLOTRAN input file)\n",
    "* hanford.dat (Database)\n",
    "  \n",
    "Boundary:\n",
    "\n",
    "* <b>Concentration boundary</b>: This is provided as geochemical condition in the parameterlist <b><i>boundary conditions</i></b> <br>\n",
    "\n",
    "<img src=\"./pictures/subsurface_boundary.png\" alt=\"Drawing\" style=\"width: 500px;\"/>\n",
    "\n",
    "* <b> Concentration value </b>: This is provided in the PFLOTRAN input file as molarity in the <b><i>CONSTRAINT</i></b> deck <br>\n",
    "\n",
    "<img src=\"./pictures/subsurface_bc_conc.png\" alt=\"Drawing\" style=\"width: 100px;\"/>\n",
    "\n",
    "Transport processes related inputs:\n",
    "\n",
    "* <b>Advection</b>: This is provided in the form of flux (flowrate per unit cross-section area, q) in the parameterlist <b><i>mass_flux</i></b> <br>\n",
    "\n",
    "<img src=\"./pictures/mass_flux.png\" alt=\"Drawing\" style=\"width: 500px;\"/>\n",
    "\n",
    "* <b>Dispersion</b>: Dispersivity: Bear model is used to compute dispersion using dispersivity value in the parameterlist <b><i>material properties</i></b>\n",
    "\n",
    "<img src=\"./pictures/dispersivity_bear.png\" alt=\"Drawing\" style=\"width: 400px;\"/>\n",
    "\n",
    "Reaction related inputs:\n",
    "* <b>Equillibrium Sorption</b>: Equilibrium sorption is enabled in ATS using <b><i>isotherm_kd</i></b> parameterlist\n",
    "* <b>Equillibrium Sorption Coefficient</b>: Equilibrium sorption coefficient Kd ($kg-water / m^3-bulk$) is provided in PFLOTRAN input file under  <b><i>SORPTION</i></b> deck, \n",
    "\n",
    "<img src=\"./pictures/sorption_deck.png\" alt=\"Drawing\" style=\"width: 300px;\"/>\n",
    "\n",
    "causing retardation by a factor as calculated below\n",
    "\n",
    "<img src=\"./pictures/sorption.png\" alt=\"Drawing\" style=\"width: 350px;\"/>\n",
    "\n",
    "* <b> Reaction Coefficient </b>: The rate constant of first order conversion from Tracer1 into Tracer2 is provided in the PFLOTRAN input file under <b><i>GENERAL_REACTION</i></b> deck <br>"
   ]
  },
  {
   "cell_type": "markdown",
   "metadata": {},
   "source": [
    "### 2.3) Result Visualization"
   ]
  },
  {
   "cell_type": "markdown",
   "metadata": {},
   "source": [
    "Here, we are visualizing results in the form of concentration timeseries or breakthrough curve (BTC) at a given location. This is done through observations parameterlist. The BTC is written in ATS in a \".dat\" file. ATS yields outlet.dat file containing aqueous species and outlet_sorbed.dat. file contained sorbed species. Below, only aqeuous concentrations are showed. "
   ]
  },
  {
   "cell_type": "code",
   "execution_count": 13,
   "metadata": {},
   "outputs": [
    {
     "data": {
      "image/png": "[encoded data removed]",
      "text/plain": [
       "<Figure size 720x360 with 1 Axes>"
      ]
     },
     "metadata": {
      "needs_background": "light"
     },
     "output_type": "display_data"
    }
   ],
   "source": [
    "plt.rcParams['figure.figsize'] = [10, 5]\n",
    "path='./subsurface_problem/'\n",
    "BTC_1 = np.loadtxt(path+'outlet.dat', skiprows=11) # outlet.dat is the BTC file for Aqueous species\n",
    "plt.plot(BTC_1[:,0], BTC_1[:,1]*unit_convert_transport, 'k-', label='Tracer1')\n",
    "plt.plot(BTC_1[:,0], BTC_1[:,2]*unit_convert_transport, 'r-', label='Tracer2')\n",
    "plt.title(\"Breakthrough Curve at 100 m from Injection\", fontsize=20)\n",
    "plt.xlabel(\"Time (s)\",fontsize=16)\n",
    "plt.ylabel(\"Concentration ($mol_C/m^3_{H2O}$)\",fontsize=16)\n",
    "plt.xticks(fontsize=16)\n",
    "plt.yticks(fontsize=16)\n",
    "plt.legend(fontsize=12, loc='lower right')\n",
    "plt.show()"
   ]
  },
  {
   "cell_type": "markdown",
   "metadata": {},
   "source": [
    "### 2.4) Exercise "
   ]
  },
  {
   "cell_type": "markdown",
   "metadata": {},
   "source": [
    "Attendees (during the session or at \"home\") should tinker with transport and reaction parameters and see the effects on the BTCs. Some of the suggestions:\n",
    "\n",
    "1) Set sorption coefficient Kd values equal to 100 for both the species in PFLOTRAN input file. This should increase the arrival time of solute fronts by the factor of retardation factor (1.4 for this case) <br>\n",
    "2) Change reaction rate constant in PFLOTRAN input file and see the changes in the plateau concentrations of Tracer1 and Tracer2 <br>\n",
    "3) For a non-zero sorption case, replace General Reaction deck in PFLOTRAN input file:\n",
    "\n",
    "<img src=\"./pictures/general_rxn.png\" alt=\"Drawing\" style=\"width: 250px;\"/>\n",
    "\n",
    "by Radioactive Reaction deck:\n",
    "\n",
    "<img src=\"./pictures/radioactive_rxn.png\" alt=\"Drawing\" style=\"width: 250px;\"/>\n",
    "\n",
    "\n",
    "The difference you see is because general reaction takes place only in the aqueous phase while radioactive decay takes place in both aqueous and sorbed phases"
   ]
  }
 ],
 "metadata": {
  "kernelspec": {
   "display_name": "Python 3 (ipykernel)",
   "language": "python",
   "name": "python3"
  },
  "language_info": {
   "codemirror_mode": {
    "name": "ipython",
    "version": 3
   },
   "file_extension": ".py",
   "mimetype": "text/x-python",
   "name": "python",
   "nbconvert_exporter": "python",
   "pygments_lexer": "ipython3",
   "version": "3.8.5"
  }
 },
 "nbformat": 4,
 "nbformat_minor": 4
}
