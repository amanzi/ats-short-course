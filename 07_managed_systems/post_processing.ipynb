{
 "cells": [
  {
   "cell_type": "markdown",
   "metadata": {},
   "source": [
    "Simulation outputs for different Gate Structure scenarios are processed and visualized."
   ]
  },
  {
   "cell_type": "code",
   "execution_count": null,
   "metadata": {},
   "outputs": [],
   "source": [
    "# Import necessary libraries for data analysis and visualization\n",
    "import numpy as np\n",
    "import pandas as pd\n",
    "from matplotlib import pyplot as plt"
   ]
  },
  {
   "cell_type": "code",
   "execution_count": null,
   "metadata": {},
   "outputs": [],
   "source": [
    "# Define file paths for different gate structure simulation scenarios\n",
    "dirnames=dict()\n",
    "dirnames['gate close'] = 'run_gate_close/water_balance.csv' \n",
    "# dirnames['gate open'] = 'run_gate_open/water_balance.csv'\n",
    "# dirnames['gate open - stage limit'] = 'run_gate_open_stage_limit/water_balance.csv'\n",
    "\n",
    "# Load simulation data from CSV files for each scenario\n",
    "df = dict()\n",
    "for key, dir in dirnames.items():\n",
    "    df[key] = pd.read_csv(dir, comment='#')"
   ]
  },
  {
   "cell_type": "code",
   "execution_count": null,
   "metadata": {},
   "outputs": [],
   "source": [
    "# Calculate average ground elevations for gate intake and detention pond areas\n",
    "# These elevations are derived from the difference between stage and ponded depth\n",
    "avg_elev_gate = (df['gate close']['gate intake stage [m]'] - df['gate close']['gate intake ponded depth [m]'])[0]\n",
    "avg_elev_dp = (df['gate close']['detention pond stage [m]'] - df['gate close']['detention pond ponded depth [m]'])[0]"
   ]
  },
  {
   "cell_type": "code",
   "execution_count": null,
   "metadata": {},
   "outputs": [],
   "source": [
    "# area of the surface domain\n",
    "surface_area = 180000"
   ]
  },
  {
   "cell_type": "code",
   "execution_count": null,
   "metadata": {},
   "outputs": [],
   "source": [
    "fig, axs = plt.subplots(4, 1, figsize=(6, 10), sharex='col')  \n",
    "colors = ['black', 'black', 'black', 'black']  \n",
    "line_styles = ['-', '--', ':']\n",
    "\n",
    "# Plot outflow for all scenarios\n",
    "for i, key in enumerate(df.keys()):\n",
    "    axs[0].plot(df[key]['time [h]'], df[key]['runoff generation [mol s^-1]']/(55000), \n",
    "                label=key, color=colors[i], linestyle=line_styles[i], linewidth=2)\n",
    "\n",
    "axs[0].set_ylabel('Outflow [m³/s]', fontsize=12, fontweight='bold')\n",
    "axs[0].set_ylim((0, 0.95))\n",
    "axs[0].legend(loc='upper right', frameon=True, fancybox=True, shadow=True)\n",
    "axs[0].grid(True, alpha=0.3)\n",
    "\n",
    "# Add precipitation on twin axis\n",
    "first_key = list(df.keys())[0]\n",
    "ax2 = axs[0].twinx()\n",
    "ax2.plot(df[first_key]['time [h]'], 1000*3600*df[first_key]['precipitation [m s^-1]'], \n",
    "         color='#17becf', linewidth=2, alpha=0.7)\n",
    "ax2.invert_yaxis()\n",
    "ax2.set_ylim((80, 0))\n",
    "ax2.set_ylabel('Precipitation [mm/hr]', fontsize=12, fontweight='bold', color='#17becf')\n",
    "ax2.tick_params(axis='y', labelcolor='#17becf')\n",
    "\n",
    "# Plot gate intake stage for all scenarios\n",
    "y_min = min(df[key]['gate intake stage [m]'].min() for key in df.keys()) - 0.005\n",
    "y_max = max(df[key]['gate intake stage [m]'].max() for key in df.keys()) + 0.01\n",
    "axs[1].set_ylabel('Gate Inlet Stage [m]', fontsize=12, fontweight='bold')\n",
    "\n",
    "for i, key in enumerate(df.keys()):\n",
    "    axs[1].plot(df[key]['time [h]'], df[key]['gate intake stage [m]'], \n",
    "                label=key, color=colors[i], linestyle=line_styles[i], linewidth=2)\n",
    "\n",
    "axs[1].set_ylim(y_min, y_max)\n",
    "axs[1].grid(True, alpha=0.3)\n",
    "\n",
    "# Create the second axis for Inlet Head\n",
    "ax1_twin = axs[1].twinx()\n",
    "stage_ticks = axs[1].get_yticks()\n",
    "pd_yticks = stage_ticks - avg_elev_gate  \n",
    "h_inlet_labels = [f\"{tick:.3f}\" for tick in pd_yticks]\n",
    "ax1_twin.set_yticks(stage_ticks)\n",
    "ax1_twin.set_yticklabels(h_inlet_labels)\n",
    "ax1_twin.set_ylabel('Gate Inlet \\n Ponded Depth [m]', fontsize=12, fontweight='bold', color='gray')\n",
    "ax1_twin.set_ylim(y_min, y_max)\n",
    "ax1_twin.tick_params(axis='y', labelcolor='gray')\n",
    "\n",
    "# Plot detention pond stage for all scenarios\n",
    "y_min = min(df[key]['detention pond stage [m]'].min() for key in df.keys()) - 0.005\n",
    "y_max = max(df[key]['detention pond stage [m]'].max() for key in df.keys()) + 0.01\n",
    "axs[2].set_ylabel('Detention Pond Stage [m]', fontsize=12, fontweight='bold')\n",
    "\n",
    "for i, key in enumerate(df.keys()):\n",
    "    axs[2].plot(df[key]['time [h]'], df[key]['detention pond stage [m]'], \n",
    "                color=colors[i], linestyle=line_styles[i], linewidth=2)\n",
    "\n",
    "axs[2].grid(True, alpha=0.3)\n",
    "\n",
    "# Create the second axis for Detention Pond Head\n",
    "ax2_twin = axs[2].twinx()\n",
    "stage_ticks = axs[2].get_yticks()\n",
    "pd_yticks = stage_ticks - avg_elev_dp  \n",
    "h_inlet_labels = [f\"{tick:.3f}\" for tick in pd_yticks]\n",
    "ax2_twin.set_yticks(stage_ticks)\n",
    "ax2_twin.set_yticklabels(h_inlet_labels)\n",
    "ax2_twin.set_ylabel('Detention Pond \\n Ponded Depth [m]', fontsize=12, fontweight='bold', color='gray')\n",
    "ax2_twin.set_ylim(y_min, y_max)\n",
    "ax2_twin.tick_params(axis='y', labelcolor='gray')\n",
    "\n",
    "# Plot gate flow (only for scenarios that have gate flow data)\n",
    "axs[3].set_ylabel('Gate Flow [m³/s]', fontsize=12, fontweight='bold')\n",
    "has_gate_flow = False\n",
    "for i, key in enumerate(df.keys()):\n",
    "    if 'gate flow [mol s^-1]' in df[key].columns:\n",
    "        axs[3].plot(df[key]['time [h]'], -df[key]['gate flow [mol s^-1]']/55000, \n",
    "                    color=colors[i], linestyle=line_styles[i], linewidth=2)\n",
    "        has_gate_flow = True\n",
    "\n",
    "if has_gate_flow:\n",
    "    axs[3].grid(True, alpha=0.3)\n",
    "else:\n",
    "    axs[3].text(0.5, 0.5, 'No gate flow data available', \n",
    "                transform=axs[3].transAxes, ha='center', va='center', \n",
    "                fontsize=12, style='italic', color='gray')\n",
    "\n",
    "axs[3].set_xlabel('Time [hr]', fontsize=12, fontweight='bold')\n",
    "\n",
    "# Improve overall appearance\n",
    "for ax in axs:\n",
    "    ax.tick_params(axis='x', labelsize=11)\n",
    "    ax.tick_params(axis='y', labelsize=11)\n",
    "    ax.spines['top'].set_visible(False)\n",
    "    ax.spines['right'].set_visible(False)\n",
    "\n",
    "plt.tight_layout()"
   ]
  }
 ],
 "metadata": {
  "kernelspec": {
   "display_name": "watershed_workflow-pure",
   "language": "python",
   "name": "python3"
  },
  "language_info": {
   "codemirror_mode": {
    "name": "ipython",
    "version": 3
   },
   "file_extension": ".py",
   "mimetype": "text/x-python",
   "name": "python",
   "nbconvert_exporter": "python",
   "pygments_lexer": "ipython3",
   "version": "3.10.6"
  }
 },
 "nbformat": 4,
 "nbformat_minor": 2
}
