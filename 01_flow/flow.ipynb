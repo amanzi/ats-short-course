{
 "cells": [
  {
   "cell_type": "markdown",
   "id": "a16bfce5-9720-48e9-a8ff-f6174d8aa5a7",
   "metadata": {},
   "source": [
    "# Demo 1: Flow"
   ]
  },
  {
   "cell_type": "markdown",
   "id": "86c74c0e-c96e-44aa-8378-73eb1e4867a4",
   "metadata": {},
   "source": [
    "## Background/Motivation\n",
    "\n",
    "Flow is a fundamental driver of processes in the surface and subsurface. In this set of demonstrations we will introduce\n",
    "\n",
    "  * Richards Model for variably saturated subsurface flow\n",
    "  * Diffusion Wave model for overland flow (surface flow)\n",
    "  * A fully coupled (integrated hydrology) model\n",
    "\n",
    "For each model we will provide the mathematical equations, highlight information about the discretization and provide tips on setting boundary conditions, initial conditions, source terms and key parameters."
   ]
  },
  {
   "cell_type": "markdown",
   "id": "3ad70847-e87b-4a8f-a3b4-dbe3222d5582",
   "metadata": {},
   "source": [
    "## Subsurface Flow (Richards Equation)\n",
    "\n",
    "We can provide the essentials of the mathematical models using LaTeX.  For example, Richards (1931) model for variably saturated flow:\n",
    "\n",
    "$\\newcommand{porosity}{\\phi}$\n",
    "$\\newcommand{dens}{n_l}$\n",
    "$\\newcommand{sat}{s}$\n",
    "$\\newcommand{flux}{\\mathbf{q}}$\n",
    "$\\newcommand{krel}{k_r}$\n",
    "$\\newcommand{kabs}{\\kappa}$\n",
    "$\\newcommand{viscosity}{\\mu}$\n",
    "\n",
    "$$\n",
    "\\begin{align}\n",
    "  \\frac{\\partial}{\\partial t} (\\porosity \\dens \\sat) &+ \\nabla \\cdot \\flux = 0 \\\\\n",
    "  \\flux &= - \\dens \\frac{\\krel \\kabs}{\\viscosity} (\\nabla p + \\rho \\mathbf{g})\n",
    "\\end{align}\n",
    "$$\n",
    "\n",
    "**Note that this uses latex macros defined in this cell.**\n",
    "\n",
    "Blah, Blah, lots more about the model and equations ...\n"
   ]
  },
  {
   "cell_type": "markdown",
   "id": "81f99932-cdfc-40f0-b66d-9956d1942484",
   "metadata": {},
   "source": [
    "## Overland Flow (Diffusion Wave Equation)"
   ]
  },
  {
   "cell_type": "markdown",
   "id": "369032c7-5182-4434-aa36-e04a120dfdfa",
   "metadata": {},
   "source": [
    "## Integrated Hydrology"
   ]
  },
  {
   "cell_type": "code",
   "execution_count": null,
   "id": "6d03f936-c034-4a9b-bdf1-05925b246d71",
   "metadata": {},
   "outputs": [],
   "source": []
  }
 ],
 "metadata": {
  "kernelspec": {
   "display_name": "Python 3 (ipykernel)",
   "language": "python",
   "name": "python3"
  },
  "language_info": {
   "codemirror_mode": {
    "name": "ipython",
    "version": 3
   },
   "file_extension": ".py",
   "mimetype": "text/x-python",
   "name": "python",
   "nbconvert_exporter": "python",
   "pygments_lexer": "ipython3",
   "version": "3.8.5"
  },
  "toc-autonumbering": true,
  "toc-showcode": false,
  "toc-showmarkdowntxt": false
 },
 "nbformat": 4,
 "nbformat_minor": 5
}
