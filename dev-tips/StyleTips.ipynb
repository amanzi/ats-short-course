{
 "cells": [
  {
   "cell_type": "markdown",
   "id": "d2942df1-5745-4f4c-8634-9b347ea69e5f",
   "metadata": {},
   "source": [
    "# Demo 1: Flow"
   ]
  },
  {
   "cell_type": "markdown",
   "id": "86c74c0e-c96e-44aa-8378-73eb1e4867a4",
   "metadata": {},
   "source": [
    "## Background/Motivation\n",
    "\n",
    "Flow is a fundamental driver of processes in the surface and subsurface. In this set of demonstrations we will introduce\n",
    "\n",
    "  * Richards Model for variably saturated subsurface flow\n",
    "  * Diffusion Wave model for overland flow (surface flow)\n",
    "  * A fully coupled (integrated hydrology) model\n",
    "\n",
    "For each model we will provide the mathematical equations, highlight information about the discretization and provide tips on setting boundary conditions, initial conditions, source terms and key parameters."
   ]
  },
  {
   "cell_type": "markdown",
   "id": "3ad70847-e87b-4a8f-a3b4-dbe3222d5582",
   "metadata": {},
   "source": [
    "## Subsurface Flow (Richards Equation)\n",
    "\n",
    "We can provide the essentials of the mathematical models using LaTeX.  For example, Richards (1931) model for variably saturated flow:\n",
    "\n",
    "$\\newcommand{porosity}{\\phi}$\n",
    "$\\newcommand{dens}{n_l}$\n",
    "$\\newcommand{sat}{s}$\n",
    "$\\newcommand{flux}{\\mathbf{q}}$\n",
    "$\\newcommand{krel}{k_r}$\n",
    "$\\newcommand{kabs}{\\kappa}$\n",
    "$\\newcommand{viscosity}{\\mu}$\n",
    "\n",
    "$$\n",
    "\\begin{align}\n",
    "  \\frac{\\partial}{\\partial t} (\\porosity \\dens \\sat) &+ \\nabla \\cdot \\flux = 0 \\\\\n",
    "  \\flux &= - \\dens \\frac{\\krel \\kabs}{\\viscosity} (\\nabla p + \\rho \\mathbf{g})\n",
    "\\end{align}\n",
    "$$\n",
    "\n",
    "**Note that this uses latex macros defined in this cell.**\n",
    "\n",
    "Blah, Blah, lots more about the model and equations ...\n"
   ]
  },
  {
   "cell_type": "markdown",
   "id": "fe6eecc5-4e74-49e6-a9b3-b3e30181f203",
   "metadata": {},
   "source": [
    "### Problem Specification\n",
    "\n",
    "We consider three cases of the steady-state flux in a layered soil column 1[m] x 1 [m] x 2[m],\n",
    "\n",
    "![Soil Column](soil-column-two-layers.png)\n",
    "\n",
    "The presure profiles should match that in the Vanderborght paper. The difference between the cases is as follows:\n",
    "\n",
    "  * case 1: is 0.5 m of clay and 1.5 m of sand;\n",
    "  * case 2: is 0.5 m of loam and 1.5 m of sand;\n",
    "  * case 3: is 1.5 m of loam and 0.5 m of sand.\n",
    "  \n",
    " "
   ]
  },
  {
   "cell_type": "code",
   "execution_count": 1,
   "id": "fb24e17a-b9d8-496e-8554-f12c48679315",
   "metadata": {
    "tags": []
   },
   "outputs": [],
   "source": [
    "matplotlib inline"
   ]
  },
  {
   "cell_type": "code",
   "execution_count": 2,
   "id": "aec698e6-af92-4ee4-90c6-5c67ff25a8d9",
   "metadata": {
    "tags": []
   },
   "outputs": [],
   "source": [
    "import sys,os\n",
    "sys.path.append(os.path.join(os.environ['ATS_SRC_DIR'],'tools', 'utils'))\n",
    "import ats_xdmf\n",
    "import plot_column_data\n",
    "import numpy as np\n",
    "from matplotlib import pyplot as plt"
   ]
  },
  {
   "cell_type": "markdown",
   "id": "97e6a5ac-3f35-4a08-acd4-db326c46b16e",
   "metadata": {},
   "source": [
    "### ATS Input File Notes\n",
    "\n",
    "I'm not sure the best way to step through and/or discuss the input file.  But we can highlight some key elements in a markdown cell.  For example, it would be really good to clarify boundary and initial conditions as these seem to give users significant problems.\n",
    "\n",
    "**Initial Condition**\n",
    "\n",
    "We set the initial water table at -3[m] below the surface, \n",
    "\n",
    "```xml\n",
    "<ParameterList name=\"initial condition\" type=\"ParameterList\">\n",
    "   <Parameter name=\"hydrostatic head [m]\" type=\"double\" value=\"-3\" />\n",
    "   <Parameter name=\"hydrostatic water density [kg m^-3]\" type=\"double\" value=\"1000\" />\n",
    "</ParameterList>\n",
    "```\n",
    "Where we note there is a dependence on a mesh parameter as well,\n",
    "\n",
    "```xml\n",
    "<Parameter name=\"build columns from set\" type=\"string\" value=\"surface\" />\n",
    "```\n",
    "**Boundary Conditions**\n",
    "\n",
    "Etc. Etc.\n"
   ]
  },
  {
   "cell_type": "markdown",
   "id": "cbefaf74-5549-43d4-abb5-f9c3dba7e876",
   "metadata": {
    "tags": []
   },
   "source": [
    "### Running ATS"
   ]
  },
  {
   "cell_type": "code",
   "execution_count": 8,
   "id": "98d8b901-ba81-4bcd-979f-fe9c0b986754",
   "metadata": {
    "tags": []
   },
   "outputs": [
    {
     "name": "stdout",
     "output_type": "stream",
     "text": [
      "ASCEMIO_Info: Preferred group size is set to nprocs/numIOgroups (1/1) \n",
      "ASCEMIO_Info: Preferred group size is set to 1 \n",
      "ASCEMIO_Info: Preferred group size is set to nprocs/numIOgroups (1/1) \n",
      "ASCEMIO_Info: Preferred group size is set to 1 \n"
     ]
    },
    {
     "data": {
      "text/plain": [
       "0"
      ]
     },
     "execution_count": 8,
     "metadata": {},
     "output_type": "execute_result"
    }
   ],
   "source": [
    "# Note we can't get subprocess.PIPE to work within Docker, but os.system works fine.\n",
    "os.system(\"mkdir richards-infiltration.demo\")\n",
    "os.system(\"(cd richards-infiltration.demo; ats --xml_file=../infiltration.xml 2>&1 > sim.stdout)\")"
   ]
  },
  {
   "cell_type": "markdown",
   "id": "b995bbc9-0825-4ce6-8ff1-2f10f093a03b",
   "metadata": {},
   "source": [
    "### Visualize the Results\n",
    "\n",
    "We should be clear about what the simulation shows physically about the system, and have some visualization that supports this narrative.\n",
    "\n",
    "Defining some functions in python seems ok, but probably want to minimize in favor of using generic capabilities in the ATS tools."
   ]
  },
  {
   "cell_type": "code",
   "execution_count": 9,
   "id": "2f511f01-47ae-4eab-820b-b1f00d4e2f5d",
   "metadata": {},
   "outputs": [],
   "source": [
    "def plot(dirname, title):\n",
    "    \"\"\"A generic plotting function that plots saturation as a function of depth.\"\"\"\n",
    "    fig = plt.figure()\n",
    "\n",
    "    vis = ats_xdmf.VisFile(dirname, time_unit='d')\n",
    "    vis.loadMesh(columnar=True)\n",
    "    \n",
    "    # plot the solution\n",
    "    ax = fig.subplots(1,1)\n",
    "    plot_column_data.plot_subsurface(vis, ['saturation_liquid',], ax, None, cmap='jet')\n",
    "\n",
    "    ax.set_xlabel('saturation [-]')\n",
    "    ax.set_ylabel('z [m]')\n",
    "    "
   ]
  },
  {
   "cell_type": "code",
   "execution_count": 10,
   "id": "a13d49d2-9f54-4951-87c6-e64de84b8e72",
   "metadata": {},
   "outputs": [
    {
     "data": {
      "image/png": "[encoded data removed]",
      "text/plain": [
       "<Figure size 432x288 with 1 Axes>"
      ]
     },
     "metadata": {
      "needs_background": "light"
     },
     "output_type": "display_data"
    }
   ],
   "source": [
    "plot(\"./richards-infiltration.demo\", \"infiltration example\")"
   ]
  },
  {
   "cell_type": "markdown",
   "id": "81f99932-cdfc-40f0-b66d-9956d1942484",
   "metadata": {},
   "source": [
    "## Overland Flow (Diffusion Wave Equation)"
   ]
  },
  {
   "cell_type": "markdown",
   "id": "369032c7-5182-4434-aa36-e04a120dfdfa",
   "metadata": {},
   "source": [
    "## Integrated Hydrology"
   ]
  },
  {
   "cell_type": "code",
   "execution_count": null,
   "id": "6d03f936-c034-4a9b-bdf1-05925b246d71",
   "metadata": {},
   "outputs": [],
   "source": []
  }
 ],
 "metadata": {
  "kernelspec": {
   "display_name": "Python 3 (ipykernel)",
   "language": "python",
   "name": "python3"
  },
  "language_info": {
   "codemirror_mode": {
    "name": "ipython",
    "version": 3
   },
   "file_extension": ".py",
   "mimetype": "text/x-python",
   "name": "python",
   "nbconvert_exporter": "python",
   "pygments_lexer": "ipython3",
   "version": "3.8.5"
  },
  "toc-autonumbering": true,
  "toc-showcode": false,
  "toc-showmarkdowntxt": false
 },
 "nbformat": 4,
 "nbformat_minor": 5
}
